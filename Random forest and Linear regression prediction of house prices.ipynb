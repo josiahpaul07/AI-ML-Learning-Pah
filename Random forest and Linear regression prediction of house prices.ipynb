{
 "cells": [
  {
   "cell_type": "code",
   "execution_count": 1,
   "id": "0027614a",
   "metadata": {},
   "outputs": [],
   "source": [
    "import pandas as pd\n",
    "import numpy as np\n",
    "\n",
    "import matplotlib.pyplot as plt\n",
    "import seaborn as sns\n",
    "import plotly.express as px\n",
    "\n",
    "from sklearn.preprocessing import LabelEncoder\n",
    "from sklearn.feature_selection import RFE\n",
    "from sklearn.model_selection import train_test_split\n",
    "\n",
    "from sklearn import metrics\n",
    "\n",
    "import matplotlib.pyplot as plt\n",
    "from imblearn.over_sampling import SMOTE\n",
    "from sklearn.preprocessing import MinMaxScaler\n",
    "import seaborn as sns\n",
    "from sklearn.preprocessing import OneHotEncoder"
   ]
  },
  {
   "cell_type": "code",
   "execution_count": null,
   "id": "92e344f4",
   "metadata": {},
   "outputs": [],
   "source": []
  },
  {
   "cell_type": "code",
   "execution_count": 2,
   "id": "c22c8f34",
   "metadata": {},
   "outputs": [],
   "source": [
    "df2021 = pd.read_excel('C:/Users/dell/Downloads/solar_measurements_nigeria_bauchi_qc.xlsx',\n",
    "                   sheet_name=['Daily Solar Irradiance Data', 'Hourly Solar Irradiance Data'])\n",
    "\n",
    "daily_df2021 = df2021['Daily Solar Irradiance Data']\n",
    "hourly_df2021 = df2021['Hourly Solar Irradiance Data']"
   ]
  },
  {
   "cell_type": "code",
   "execution_count": 3,
   "id": "3f7eadf4",
   "metadata": {},
   "outputs": [],
   "source": [
    "df2022 = pd.read_excel('C:/Users/dell/Downloads/solar-measurements_nigeria-bauchi_qc_year2.xlsx',\n",
    "                   sheet_name=['Daily Solar Irradiance Data', 'Hourly Solar Irradiance Data'])\n",
    "\n",
    "daily_df2022 = df2022['Daily Solar Irradiance Data']\n",
    "hourly_df2022 = df2022['Hourly Solar Irradiance Data']"
   ]
  },
  {
   "cell_type": "code",
   "execution_count": null,
   "id": "aa60faf4",
   "metadata": {},
   "outputs": [],
   "source": []
  },
  {
   "cell_type": "code",
   "execution_count": 4,
   "id": "be80e4d4",
   "metadata": {},
   "outputs": [],
   "source": [
    "daily_df = pd.concat([daily_df2021, daily_df2022], ignore_index=True, sort=False)"
   ]
  },
  {
   "cell_type": "code",
   "execution_count": 5,
   "id": "cba65447",
   "metadata": {},
   "outputs": [
    {
     "data": {
      "text/html": [
       "<div>\n",
       "<style scoped>\n",
       "    .dataframe tbody tr th:only-of-type {\n",
       "        vertical-align: middle;\n",
       "    }\n",
       "\n",
       "    .dataframe tbody tr th {\n",
       "        vertical-align: top;\n",
       "    }\n",
       "\n",
       "    .dataframe thead th {\n",
       "        text-align: right;\n",
       "    }\n",
       "</style>\n",
       "<table border=\"1\" class=\"dataframe\">\n",
       "  <thead>\n",
       "    <tr style=\"text-align: right;\">\n",
       "      <th></th>\n",
       "      <th>Date</th>\n",
       "      <th>GHI</th>\n",
       "      <th>DNI</th>\n",
       "      <th>DHI</th>\n",
       "      <th>ModA</th>\n",
       "      <th>ModB</th>\n",
       "      <th>Tamb</th>\n",
       "      <th>RH</th>\n",
       "      <th>WS</th>\n",
       "      <th>WSgust</th>\n",
       "      <th>WSstdev</th>\n",
       "      <th>WD</th>\n",
       "      <th>WDstdev</th>\n",
       "      <th>BP</th>\n",
       "      <th>Cleaning</th>\n",
       "      <th>Precipitation</th>\n",
       "      <th>TModA</th>\n",
       "      <th>TModB</th>\n",
       "      <th>Comments</th>\n",
       "    </tr>\n",
       "  </thead>\n",
       "  <tbody>\n",
       "    <tr>\n",
       "      <th>0</th>\n",
       "      <td>2021-09-20</td>\n",
       "      <td>567.778457</td>\n",
       "      <td>338.241801</td>\n",
       "      <td>301.328135</td>\n",
       "      <td>540.101447</td>\n",
       "      <td>540.167524</td>\n",
       "      <td>29.631672</td>\n",
       "      <td>61.879260</td>\n",
       "      <td>1.491801</td>\n",
       "      <td>2.218810</td>\n",
       "      <td>0.475402</td>\n",
       "      <td>112.751608</td>\n",
       "      <td>10.656592</td>\n",
       "      <td>947.101286</td>\n",
       "      <td>0.003215</td>\n",
       "      <td>0.0</td>\n",
       "      <td>56.933280</td>\n",
       "      <td>53.882154</td>\n",
       "      <td>NaN</td>\n",
       "    </tr>\n",
       "    <tr>\n",
       "      <th>1</th>\n",
       "      <td>2021-09-21</td>\n",
       "      <td>612.299493</td>\n",
       "      <td>416.508615</td>\n",
       "      <td>277.375338</td>\n",
       "      <td>582.300676</td>\n",
       "      <td>586.050169</td>\n",
       "      <td>30.591216</td>\n",
       "      <td>64.952196</td>\n",
       "      <td>2.252365</td>\n",
       "      <td>3.115203</td>\n",
       "      <td>0.558108</td>\n",
       "      <td>151.029561</td>\n",
       "      <td>10.961318</td>\n",
       "      <td>946.320946</td>\n",
       "      <td>0.003378</td>\n",
       "      <td>0.0</td>\n",
       "      <td>60.852872</td>\n",
       "      <td>51.598142</td>\n",
       "      <td>NaN</td>\n",
       "    </tr>\n",
       "    <tr>\n",
       "      <th>2</th>\n",
       "      <td>2021-09-22</td>\n",
       "      <td>273.871351</td>\n",
       "      <td>46.575946</td>\n",
       "      <td>257.215946</td>\n",
       "      <td>269.784865</td>\n",
       "      <td>271.773514</td>\n",
       "      <td>23.533243</td>\n",
       "      <td>91.272432</td>\n",
       "      <td>1.591622</td>\n",
       "      <td>2.449730</td>\n",
       "      <td>0.555405</td>\n",
       "      <td>186.108649</td>\n",
       "      <td>9.504324</td>\n",
       "      <td>947.551351</td>\n",
       "      <td>0.000000</td>\n",
       "      <td>1.2</td>\n",
       "      <td>35.082162</td>\n",
       "      <td>31.820000</td>\n",
       "      <td>NaN</td>\n",
       "    </tr>\n",
       "    <tr>\n",
       "      <th>3</th>\n",
       "      <td>2021-09-23</td>\n",
       "      <td>459.291452</td>\n",
       "      <td>127.545484</td>\n",
       "      <td>398.805645</td>\n",
       "      <td>436.126613</td>\n",
       "      <td>438.337581</td>\n",
       "      <td>27.244677</td>\n",
       "      <td>75.802419</td>\n",
       "      <td>1.695968</td>\n",
       "      <td>2.501129</td>\n",
       "      <td>0.542258</td>\n",
       "      <td>167.147258</td>\n",
       "      <td>10.426129</td>\n",
       "      <td>947.745161</td>\n",
       "      <td>0.003226</td>\n",
       "      <td>0.0</td>\n",
       "      <td>50.347419</td>\n",
       "      <td>47.425484</td>\n",
       "      <td>NaN</td>\n",
       "    </tr>\n",
       "    <tr>\n",
       "      <th>4</th>\n",
       "      <td>2021-09-24</td>\n",
       "      <td>610.936184</td>\n",
       "      <td>465.200822</td>\n",
       "      <td>257.588487</td>\n",
       "      <td>584.840954</td>\n",
       "      <td>589.787171</td>\n",
       "      <td>28.955263</td>\n",
       "      <td>64.560362</td>\n",
       "      <td>1.320066</td>\n",
       "      <td>2.006908</td>\n",
       "      <td>0.438651</td>\n",
       "      <td>124.336842</td>\n",
       "      <td>7.634704</td>\n",
       "      <td>947.917763</td>\n",
       "      <td>0.003289</td>\n",
       "      <td>0.0</td>\n",
       "      <td>61.070066</td>\n",
       "      <td>52.558224</td>\n",
       "      <td>NaN</td>\n",
       "    </tr>\n",
       "    <tr>\n",
       "      <th>...</th>\n",
       "      <td>...</td>\n",
       "      <td>...</td>\n",
       "      <td>...</td>\n",
       "      <td>...</td>\n",
       "      <td>...</td>\n",
       "      <td>...</td>\n",
       "      <td>...</td>\n",
       "      <td>...</td>\n",
       "      <td>...</td>\n",
       "      <td>...</td>\n",
       "      <td>...</td>\n",
       "      <td>...</td>\n",
       "      <td>...</td>\n",
       "      <td>...</td>\n",
       "      <td>...</td>\n",
       "      <td>...</td>\n",
       "      <td>...</td>\n",
       "      <td>...</td>\n",
       "      <td>...</td>\n",
       "    </tr>\n",
       "    <tr>\n",
       "      <th>725</th>\n",
       "      <td>2023-09-15</td>\n",
       "      <td>470.193182</td>\n",
       "      <td>114.955070</td>\n",
       "      <td>372.390210</td>\n",
       "      <td>444.752972</td>\n",
       "      <td>452.372727</td>\n",
       "      <td>28.038636</td>\n",
       "      <td>70.820629</td>\n",
       "      <td>1.343007</td>\n",
       "      <td>1.948252</td>\n",
       "      <td>0.406993</td>\n",
       "      <td>84.573601</td>\n",
       "      <td>9.146503</td>\n",
       "      <td>947.921329</td>\n",
       "      <td>0.003497</td>\n",
       "      <td>0.0</td>\n",
       "      <td>51.695455</td>\n",
       "      <td>45.340385</td>\n",
       "      <td>NaN</td>\n",
       "    </tr>\n",
       "    <tr>\n",
       "      <th>726</th>\n",
       "      <td>2023-09-16</td>\n",
       "      <td>530.911661</td>\n",
       "      <td>295.801943</td>\n",
       "      <td>312.363251</td>\n",
       "      <td>497.695936</td>\n",
       "      <td>505.014134</td>\n",
       "      <td>27.372615</td>\n",
       "      <td>77.699293</td>\n",
       "      <td>2.646820</td>\n",
       "      <td>3.670141</td>\n",
       "      <td>0.644700</td>\n",
       "      <td>173.510071</td>\n",
       "      <td>15.003534</td>\n",
       "      <td>948.784452</td>\n",
       "      <td>0.001767</td>\n",
       "      <td>7.9</td>\n",
       "      <td>49.365371</td>\n",
       "      <td>43.863781</td>\n",
       "      <td>NaN</td>\n",
       "    </tr>\n",
       "    <tr>\n",
       "      <th>727</th>\n",
       "      <td>2023-09-17</td>\n",
       "      <td>432.378079</td>\n",
       "      <td>69.581837</td>\n",
       "      <td>374.484342</td>\n",
       "      <td>404.763883</td>\n",
       "      <td>411.938413</td>\n",
       "      <td>27.437370</td>\n",
       "      <td>77.027975</td>\n",
       "      <td>0.965136</td>\n",
       "      <td>1.586430</td>\n",
       "      <td>0.413570</td>\n",
       "      <td>141.974113</td>\n",
       "      <td>8.187683</td>\n",
       "      <td>949.014614</td>\n",
       "      <td>0.004175</td>\n",
       "      <td>0.1</td>\n",
       "      <td>48.425261</td>\n",
       "      <td>44.312526</td>\n",
       "      <td>NaN</td>\n",
       "    </tr>\n",
       "    <tr>\n",
       "      <th>728</th>\n",
       "      <td>2023-09-18</td>\n",
       "      <td>490.585178</td>\n",
       "      <td>174.496998</td>\n",
       "      <td>375.616135</td>\n",
       "      <td>461.335835</td>\n",
       "      <td>469.141463</td>\n",
       "      <td>25.379737</td>\n",
       "      <td>75.700750</td>\n",
       "      <td>1.825328</td>\n",
       "      <td>2.755159</td>\n",
       "      <td>0.609381</td>\n",
       "      <td>197.563039</td>\n",
       "      <td>12.596811</td>\n",
       "      <td>948.825516</td>\n",
       "      <td>0.003752</td>\n",
       "      <td>0.0</td>\n",
       "      <td>49.511632</td>\n",
       "      <td>43.345028</td>\n",
       "      <td>NaN</td>\n",
       "    </tr>\n",
       "    <tr>\n",
       "      <th>729</th>\n",
       "      <td>2023-09-19</td>\n",
       "      <td>499.899629</td>\n",
       "      <td>189.137291</td>\n",
       "      <td>368.332282</td>\n",
       "      <td>469.574212</td>\n",
       "      <td>476.822078</td>\n",
       "      <td>28.750649</td>\n",
       "      <td>64.921892</td>\n",
       "      <td>1.651577</td>\n",
       "      <td>2.385158</td>\n",
       "      <td>0.498145</td>\n",
       "      <td>111.967532</td>\n",
       "      <td>10.920408</td>\n",
       "      <td>948.638219</td>\n",
       "      <td>0.003711</td>\n",
       "      <td>0.0</td>\n",
       "      <td>54.310019</td>\n",
       "      <td>45.640260</td>\n",
       "      <td>NaN</td>\n",
       "    </tr>\n",
       "  </tbody>\n",
       "</table>\n",
       "<p>730 rows × 19 columns</p>\n",
       "</div>"
      ],
      "text/plain": [
       "          Date         GHI         DNI         DHI        ModA        ModB  \\\n",
       "0   2021-09-20  567.778457  338.241801  301.328135  540.101447  540.167524   \n",
       "1   2021-09-21  612.299493  416.508615  277.375338  582.300676  586.050169   \n",
       "2   2021-09-22  273.871351   46.575946  257.215946  269.784865  271.773514   \n",
       "3   2021-09-23  459.291452  127.545484  398.805645  436.126613  438.337581   \n",
       "4   2021-09-24  610.936184  465.200822  257.588487  584.840954  589.787171   \n",
       "..         ...         ...         ...         ...         ...         ...   \n",
       "725 2023-09-15  470.193182  114.955070  372.390210  444.752972  452.372727   \n",
       "726 2023-09-16  530.911661  295.801943  312.363251  497.695936  505.014134   \n",
       "727 2023-09-17  432.378079   69.581837  374.484342  404.763883  411.938413   \n",
       "728 2023-09-18  490.585178  174.496998  375.616135  461.335835  469.141463   \n",
       "729 2023-09-19  499.899629  189.137291  368.332282  469.574212  476.822078   \n",
       "\n",
       "          Tamb         RH        WS    WSgust   WSstdev          WD  \\\n",
       "0    29.631672  61.879260  1.491801  2.218810  0.475402  112.751608   \n",
       "1    30.591216  64.952196  2.252365  3.115203  0.558108  151.029561   \n",
       "2    23.533243  91.272432  1.591622  2.449730  0.555405  186.108649   \n",
       "3    27.244677  75.802419  1.695968  2.501129  0.542258  167.147258   \n",
       "4    28.955263  64.560362  1.320066  2.006908  0.438651  124.336842   \n",
       "..         ...        ...       ...       ...       ...         ...   \n",
       "725  28.038636  70.820629  1.343007  1.948252  0.406993   84.573601   \n",
       "726  27.372615  77.699293  2.646820  3.670141  0.644700  173.510071   \n",
       "727  27.437370  77.027975  0.965136  1.586430  0.413570  141.974113   \n",
       "728  25.379737  75.700750  1.825328  2.755159  0.609381  197.563039   \n",
       "729  28.750649  64.921892  1.651577  2.385158  0.498145  111.967532   \n",
       "\n",
       "       WDstdev          BP  Cleaning  Precipitation      TModA      TModB  \\\n",
       "0    10.656592  947.101286  0.003215            0.0  56.933280  53.882154   \n",
       "1    10.961318  946.320946  0.003378            0.0  60.852872  51.598142   \n",
       "2     9.504324  947.551351  0.000000            1.2  35.082162  31.820000   \n",
       "3    10.426129  947.745161  0.003226            0.0  50.347419  47.425484   \n",
       "4     7.634704  947.917763  0.003289            0.0  61.070066  52.558224   \n",
       "..         ...         ...       ...            ...        ...        ...   \n",
       "725   9.146503  947.921329  0.003497            0.0  51.695455  45.340385   \n",
       "726  15.003534  948.784452  0.001767            7.9  49.365371  43.863781   \n",
       "727   8.187683  949.014614  0.004175            0.1  48.425261  44.312526   \n",
       "728  12.596811  948.825516  0.003752            0.0  49.511632  43.345028   \n",
       "729  10.920408  948.638219  0.003711            0.0  54.310019  45.640260   \n",
       "\n",
       "     Comments  \n",
       "0         NaN  \n",
       "1         NaN  \n",
       "2         NaN  \n",
       "3         NaN  \n",
       "4         NaN  \n",
       "..        ...  \n",
       "725       NaN  \n",
       "726       NaN  \n",
       "727       NaN  \n",
       "728       NaN  \n",
       "729       NaN  \n",
       "\n",
       "[730 rows x 19 columns]"
      ]
     },
     "execution_count": 5,
     "metadata": {},
     "output_type": "execute_result"
    }
   ],
   "source": [
    "daily_df"
   ]
  },
  {
   "cell_type": "code",
   "execution_count": 6,
   "id": "1f380ee9",
   "metadata": {},
   "outputs": [
    {
     "name": "stdout",
     "output_type": "stream",
     "text": [
      "<class 'pandas.core.frame.DataFrame'>\n",
      "RangeIndex: 730 entries, 0 to 729\n",
      "Data columns (total 19 columns):\n",
      " #   Column         Non-Null Count  Dtype         \n",
      "---  ------         --------------  -----         \n",
      " 0   Date           730 non-null    datetime64[ns]\n",
      " 1   GHI            730 non-null    float64       \n",
      " 2   DNI            730 non-null    float64       \n",
      " 3   DHI            730 non-null    float64       \n",
      " 4   ModA           730 non-null    float64       \n",
      " 5   ModB           730 non-null    float64       \n",
      " 6   Tamb           730 non-null    float64       \n",
      " 7   RH             730 non-null    float64       \n",
      " 8   WS             721 non-null    float64       \n",
      " 9   WSgust         721 non-null    float64       \n",
      " 10  WSstdev        721 non-null    float64       \n",
      " 11  WD             725 non-null    float64       \n",
      " 12  WDstdev        725 non-null    float64       \n",
      " 13  BP             730 non-null    float64       \n",
      " 14  Cleaning       730 non-null    float64       \n",
      " 15  Precipitation  730 non-null    float64       \n",
      " 16  TModA          730 non-null    float64       \n",
      " 17  TModB          730 non-null    float64       \n",
      " 18  Comments       0 non-null      float64       \n",
      "dtypes: datetime64[ns](1), float64(18)\n",
      "memory usage: 108.5 KB\n"
     ]
    }
   ],
   "source": [
    "daily_df.info()"
   ]
  },
  {
   "cell_type": "code",
   "execution_count": 7,
   "id": "700974b2",
   "metadata": {},
   "outputs": [],
   "source": [
    "# List of columns to drop\n",
    "columns_to_drop = ['ModA', 'ModB', 'TModA', 'TModB', 'WSgust', 'WSstdev', 'WDstdev', 'Comments', 'Cleaning']\n",
    "\n",
    "# Drop the columns\n",
    "daily_df = daily_df.drop(columns=columns_to_drop)"
   ]
  },
  {
   "cell_type": "code",
   "execution_count": 8,
   "id": "446d09a4",
   "metadata": {},
   "outputs": [
    {
     "name": "stdout",
     "output_type": "stream",
     "text": [
      "<class 'pandas.core.frame.DataFrame'>\n",
      "RangeIndex: 730 entries, 0 to 729\n",
      "Data columns (total 10 columns):\n",
      " #   Column         Non-Null Count  Dtype         \n",
      "---  ------         --------------  -----         \n",
      " 0   Date           730 non-null    datetime64[ns]\n",
      " 1   GHI            730 non-null    float64       \n",
      " 2   DNI            730 non-null    float64       \n",
      " 3   DHI            730 non-null    float64       \n",
      " 4   Tamb           730 non-null    float64       \n",
      " 5   RH             730 non-null    float64       \n",
      " 6   WS             721 non-null    float64       \n",
      " 7   WD             725 non-null    float64       \n",
      " 8   BP             730 non-null    float64       \n",
      " 9   Precipitation  730 non-null    float64       \n",
      "dtypes: datetime64[ns](1), float64(9)\n",
      "memory usage: 57.2 KB\n"
     ]
    }
   ],
   "source": [
    "daily_df.info()"
   ]
  },
  {
   "cell_type": "code",
   "execution_count": 9,
   "id": "1b7f2526",
   "metadata": {},
   "outputs": [
    {
     "data": {
      "text/html": [
       "<div>\n",
       "<style scoped>\n",
       "    .dataframe tbody tr th:only-of-type {\n",
       "        vertical-align: middle;\n",
       "    }\n",
       "\n",
       "    .dataframe tbody tr th {\n",
       "        vertical-align: top;\n",
       "    }\n",
       "\n",
       "    .dataframe thead th {\n",
       "        text-align: right;\n",
       "    }\n",
       "</style>\n",
       "<table border=\"1\" class=\"dataframe\">\n",
       "  <thead>\n",
       "    <tr style=\"text-align: right;\">\n",
       "      <th></th>\n",
       "      <th>Date</th>\n",
       "      <th>GHI</th>\n",
       "      <th>DNI</th>\n",
       "      <th>DHI</th>\n",
       "      <th>Tamb</th>\n",
       "      <th>RH</th>\n",
       "      <th>WS</th>\n",
       "      <th>WD</th>\n",
       "      <th>BP</th>\n",
       "      <th>Precipitation</th>\n",
       "    </tr>\n",
       "  </thead>\n",
       "  <tbody>\n",
       "    <tr>\n",
       "      <th>0</th>\n",
       "      <td>2021-09-20</td>\n",
       "      <td>567.778457</td>\n",
       "      <td>338.241801</td>\n",
       "      <td>301.328135</td>\n",
       "      <td>29.631672</td>\n",
       "      <td>61.879260</td>\n",
       "      <td>1.491801</td>\n",
       "      <td>112.751608</td>\n",
       "      <td>947.101286</td>\n",
       "      <td>0.0</td>\n",
       "    </tr>\n",
       "    <tr>\n",
       "      <th>1</th>\n",
       "      <td>2021-09-21</td>\n",
       "      <td>612.299493</td>\n",
       "      <td>416.508615</td>\n",
       "      <td>277.375338</td>\n",
       "      <td>30.591216</td>\n",
       "      <td>64.952196</td>\n",
       "      <td>2.252365</td>\n",
       "      <td>151.029561</td>\n",
       "      <td>946.320946</td>\n",
       "      <td>0.0</td>\n",
       "    </tr>\n",
       "    <tr>\n",
       "      <th>2</th>\n",
       "      <td>2021-09-22</td>\n",
       "      <td>273.871351</td>\n",
       "      <td>46.575946</td>\n",
       "      <td>257.215946</td>\n",
       "      <td>23.533243</td>\n",
       "      <td>91.272432</td>\n",
       "      <td>1.591622</td>\n",
       "      <td>186.108649</td>\n",
       "      <td>947.551351</td>\n",
       "      <td>1.2</td>\n",
       "    </tr>\n",
       "    <tr>\n",
       "      <th>3</th>\n",
       "      <td>2021-09-23</td>\n",
       "      <td>459.291452</td>\n",
       "      <td>127.545484</td>\n",
       "      <td>398.805645</td>\n",
       "      <td>27.244677</td>\n",
       "      <td>75.802419</td>\n",
       "      <td>1.695968</td>\n",
       "      <td>167.147258</td>\n",
       "      <td>947.745161</td>\n",
       "      <td>0.0</td>\n",
       "    </tr>\n",
       "    <tr>\n",
       "      <th>4</th>\n",
       "      <td>2021-09-24</td>\n",
       "      <td>610.936184</td>\n",
       "      <td>465.200822</td>\n",
       "      <td>257.588487</td>\n",
       "      <td>28.955263</td>\n",
       "      <td>64.560362</td>\n",
       "      <td>1.320066</td>\n",
       "      <td>124.336842</td>\n",
       "      <td>947.917763</td>\n",
       "      <td>0.0</td>\n",
       "    </tr>\n",
       "    <tr>\n",
       "      <th>...</th>\n",
       "      <td>...</td>\n",
       "      <td>...</td>\n",
       "      <td>...</td>\n",
       "      <td>...</td>\n",
       "      <td>...</td>\n",
       "      <td>...</td>\n",
       "      <td>...</td>\n",
       "      <td>...</td>\n",
       "      <td>...</td>\n",
       "      <td>...</td>\n",
       "    </tr>\n",
       "    <tr>\n",
       "      <th>725</th>\n",
       "      <td>2023-09-15</td>\n",
       "      <td>470.193182</td>\n",
       "      <td>114.955070</td>\n",
       "      <td>372.390210</td>\n",
       "      <td>28.038636</td>\n",
       "      <td>70.820629</td>\n",
       "      <td>1.343007</td>\n",
       "      <td>84.573601</td>\n",
       "      <td>947.921329</td>\n",
       "      <td>0.0</td>\n",
       "    </tr>\n",
       "    <tr>\n",
       "      <th>726</th>\n",
       "      <td>2023-09-16</td>\n",
       "      <td>530.911661</td>\n",
       "      <td>295.801943</td>\n",
       "      <td>312.363251</td>\n",
       "      <td>27.372615</td>\n",
       "      <td>77.699293</td>\n",
       "      <td>2.646820</td>\n",
       "      <td>173.510071</td>\n",
       "      <td>948.784452</td>\n",
       "      <td>7.9</td>\n",
       "    </tr>\n",
       "    <tr>\n",
       "      <th>727</th>\n",
       "      <td>2023-09-17</td>\n",
       "      <td>432.378079</td>\n",
       "      <td>69.581837</td>\n",
       "      <td>374.484342</td>\n",
       "      <td>27.437370</td>\n",
       "      <td>77.027975</td>\n",
       "      <td>0.965136</td>\n",
       "      <td>141.974113</td>\n",
       "      <td>949.014614</td>\n",
       "      <td>0.1</td>\n",
       "    </tr>\n",
       "    <tr>\n",
       "      <th>728</th>\n",
       "      <td>2023-09-18</td>\n",
       "      <td>490.585178</td>\n",
       "      <td>174.496998</td>\n",
       "      <td>375.616135</td>\n",
       "      <td>25.379737</td>\n",
       "      <td>75.700750</td>\n",
       "      <td>1.825328</td>\n",
       "      <td>197.563039</td>\n",
       "      <td>948.825516</td>\n",
       "      <td>0.0</td>\n",
       "    </tr>\n",
       "    <tr>\n",
       "      <th>729</th>\n",
       "      <td>2023-09-19</td>\n",
       "      <td>499.899629</td>\n",
       "      <td>189.137291</td>\n",
       "      <td>368.332282</td>\n",
       "      <td>28.750649</td>\n",
       "      <td>64.921892</td>\n",
       "      <td>1.651577</td>\n",
       "      <td>111.967532</td>\n",
       "      <td>948.638219</td>\n",
       "      <td>0.0</td>\n",
       "    </tr>\n",
       "  </tbody>\n",
       "</table>\n",
       "<p>730 rows × 10 columns</p>\n",
       "</div>"
      ],
      "text/plain": [
       "          Date         GHI         DNI         DHI       Tamb         RH  \\\n",
       "0   2021-09-20  567.778457  338.241801  301.328135  29.631672  61.879260   \n",
       "1   2021-09-21  612.299493  416.508615  277.375338  30.591216  64.952196   \n",
       "2   2021-09-22  273.871351   46.575946  257.215946  23.533243  91.272432   \n",
       "3   2021-09-23  459.291452  127.545484  398.805645  27.244677  75.802419   \n",
       "4   2021-09-24  610.936184  465.200822  257.588487  28.955263  64.560362   \n",
       "..         ...         ...         ...         ...        ...        ...   \n",
       "725 2023-09-15  470.193182  114.955070  372.390210  28.038636  70.820629   \n",
       "726 2023-09-16  530.911661  295.801943  312.363251  27.372615  77.699293   \n",
       "727 2023-09-17  432.378079   69.581837  374.484342  27.437370  77.027975   \n",
       "728 2023-09-18  490.585178  174.496998  375.616135  25.379737  75.700750   \n",
       "729 2023-09-19  499.899629  189.137291  368.332282  28.750649  64.921892   \n",
       "\n",
       "           WS          WD          BP  Precipitation  \n",
       "0    1.491801  112.751608  947.101286            0.0  \n",
       "1    2.252365  151.029561  946.320946            0.0  \n",
       "2    1.591622  186.108649  947.551351            1.2  \n",
       "3    1.695968  167.147258  947.745161            0.0  \n",
       "4    1.320066  124.336842  947.917763            0.0  \n",
       "..        ...         ...         ...            ...  \n",
       "725  1.343007   84.573601  947.921329            0.0  \n",
       "726  2.646820  173.510071  948.784452            7.9  \n",
       "727  0.965136  141.974113  949.014614            0.1  \n",
       "728  1.825328  197.563039  948.825516            0.0  \n",
       "729  1.651577  111.967532  948.638219            0.0  \n",
       "\n",
       "[730 rows x 10 columns]"
      ]
     },
     "execution_count": 9,
     "metadata": {},
     "output_type": "execute_result"
    }
   ],
   "source": [
    "daily_df"
   ]
  },
  {
   "cell_type": "code",
   "execution_count": 10,
   "id": "52d5c9b8",
   "metadata": {},
   "outputs": [
    {
     "name": "stderr",
     "output_type": "stream",
     "text": [
      "C:\\Users\\dell\\AppData\\Local\\Temp\\ipykernel_4284\\2361042381.py:3: FutureWarning: The default value of numeric_only in DataFrame.corr is deprecated. In a future version, it will default to False. Select only valid columns or specify the value of numeric_only to silence this warning.\n",
      "  heatmap = sns.heatmap(daily_df.corr(), vmin=-1, vmax=1, annot=True)\n"
     ]
    },
    {
     "data": {
      "text/plain": [
       "Text(0.5, 1.0, 'Correlation Heatmap')"
      ]
     },
     "execution_count": 10,
     "metadata": {},
     "output_type": "execute_result"
    },
    {
     "data": {
      "image/png": "[encoded data removed]",
      "text/plain": [
       "<Figure size 1600x600 with 2 Axes>"
      ]
     },
     "metadata": {},
     "output_type": "display_data"
    }
   ],
   "source": [
    "plt.figure(figsize=(16,6))\n",
    "\n",
    "heatmap = sns.heatmap(daily_df.corr(), vmin=-1, vmax=1, annot=True)\n",
    "\n",
    "heatmap.set_title('Correlation Heatmap', fontdict={'fontsize':12}, pad=12)"
   ]
  },
  {
   "cell_type": "code",
   "execution_count": 11,
   "id": "0ec21372",
   "metadata": {},
   "outputs": [],
   "source": [
    "daily_df = daily_df.dropna()"
   ]
  },
  {
   "cell_type": "markdown",
   "id": "4b216a64",
   "metadata": {},
   "source": [
    "Daily Global Horizontal Irradiance"
   ]
  },
  {
   "cell_type": "code",
   "execution_count": 12,
   "id": "4f304b6e",
   "metadata": {},
   "outputs": [],
   "source": [
    "drop1 = ['GHI', 'DNI', 'DHI', 'Date']\n",
    "\n",
    "X_rf = daily_df.drop(columns = drop1)\n",
    "\n",
    "y_rf = daily_df['GHI']\n",
    "\n",
    "X_train, X_test, y_train, y_test = train_test_split(X_rf, y_rf, test_size=0.3, random_state=42)"
   ]
  },
  {
   "cell_type": "code",
   "execution_count": null,
   "id": "6f85ab8e",
   "metadata": {},
   "outputs": [],
   "source": []
  },
  {
   "cell_type": "code",
   "execution_count": 13,
   "id": "5978bbf6",
   "metadata": {},
   "outputs": [],
   "source": [
    "from sklearn.ensemble import RandomForestRegressor\n",
    "from sklearn.metrics import mean_squared_error as MSE\n",
    "from sklearn.metrics import mean_absolute_percentage_error as mape\n",
    "from sklearn.metrics import mean_absolute_error as mae"
   ]
  },
  {
   "cell_type": "code",
   "execution_count": 14,
   "id": "a6ead573",
   "metadata": {},
   "outputs": [],
   "source": [
    "#rf = RandomForestRegressor(n_estimators=30)\n",
    "#rf.fit(X_train, y_train)\n",
    "\n",
    "\n",
    "rf = RandomForestRegressor(n_estimators=50)\n",
    "fit = rf.fit(X_train,y_train)\n",
    "predicted = rf.predict(X_test)\n",
    "\n",
    "\n",
    "predicted = rf.predict(X_test)\n",
    "\n",
    "expected = y_test\n",
    "\n",
    "df_pred = pd.DataFrame({'Predicted':predicted, 'Actual':expected})\n",
    "df_pred\n",
    "\n",
    "df_pred['Accuracy'] = df_pred['Actual'] - df_pred['Predicted']\n"
   ]
  },
  {
   "cell_type": "code",
   "execution_count": 15,
   "id": "d1b7d4f4",
   "metadata": {},
   "outputs": [],
   "source": [
    "rf = RandomForestRegressor(n_estimators=50)\n",
    "fit = rf.fit(X_train,y_train)\n",
    "predicted = rf.predict(X_test)\n",
    "\n",
    "\n",
    "predicted = rf.predict(X_test)\n",
    "\n",
    "expected = y_test\n",
    "\n",
    "df_pred = pd.DataFrame({'Predicted':predicted, 'Actual':expected})\n",
    "df_pred\n",
    "\n",
    "df_pred['Accuracy'] = df_pred['Actual'] - df_pred['Predicted']\n"
   ]
  },
  {
   "cell_type": "code",
   "execution_count": 16,
   "id": "09cf10d7",
   "metadata": {},
   "outputs": [
    {
     "data": {
      "text/plain": [
       "259    -1.722134\n",
       "667   -12.091859\n",
       "77    -57.115622\n",
       "65    -13.289490\n",
       "81    -25.002436\n",
       "         ...    \n",
       "693     9.386052\n",
       "627    49.160218\n",
       "629   -16.985601\n",
       "324   -71.347359\n",
       "443   -27.919794\n",
       "Name: Accuracy, Length: 217, dtype: float64"
      ]
     },
     "execution_count": 16,
     "metadata": {},
     "output_type": "execute_result"
    }
   ],
   "source": [
    "df_pred['Accuracy']"
   ]
  },
  {
   "cell_type": "code",
   "execution_count": 17,
   "id": "7aa3d7be",
   "metadata": {},
   "outputs": [],
   "source": [
    "from sklearn.model_selection import train_test_split,GridSearchCV"
   ]
  },
  {
   "cell_type": "code",
   "execution_count": null,
   "id": "8e14e1e9",
   "metadata": {},
   "outputs": [],
   "source": []
  },
  {
   "cell_type": "code",
   "execution_count": 18,
   "id": "38cd4f13",
   "metadata": {},
   "outputs": [
    {
     "name": "stdout",
     "output_type": "stream",
     "text": [
      "MAPE: 0.09558263192783671\n"
     ]
    }
   ],
   "source": [
    "print(\"MAPE: %r\" % mape(expected, predicted))"
   ]
  },
  {
   "cell_type": "code",
   "execution_count": 19,
   "id": "8161c9af",
   "metadata": {},
   "outputs": [
    {
     "name": "stdout",
     "output_type": "stream",
     "text": [
      "RMSE: 64.05201445735027\n"
     ]
    }
   ],
   "source": [
    "print(\"RMSE: %r\" % np.sqrt(np.mean((df_pred[\"Accuracy\"])**2)))"
   ]
  },
  {
   "cell_type": "code",
   "execution_count": 20,
   "id": "c4efc887",
   "metadata": {},
   "outputs": [
    {
     "data": {
      "text/plain": [
       "49.213403661783175"
      ]
     },
     "execution_count": 20,
     "metadata": {},
     "output_type": "execute_result"
    }
   ],
   "source": [
    "mae(expected, predicted)"
   ]
  },
  {
   "cell_type": "markdown",
   "id": "90ae7b1e",
   "metadata": {},
   "source": [
    " Daily Direct Normal Irradiance"
   ]
  },
  {
   "cell_type": "code",
   "execution_count": 21,
   "id": "5a9c4f59",
   "metadata": {},
   "outputs": [],
   "source": [
    "drop1 = ['GHI', 'DNI', 'DHI', 'Date']\n",
    "\n",
    "X_rf_DNI = daily_df.drop(columns = drop1)\n",
    "\n",
    "y_rf_DNI = daily_df['DNI']\n",
    "\n",
    "X_train, X_test, y_train, y_test = train_test_split(X_rf_DNI, y_rf_DNI, test_size=0.3, random_state=42)"
   ]
  },
  {
   "cell_type": "code",
   "execution_count": 22,
   "id": "9de8f9a4",
   "metadata": {},
   "outputs": [],
   "source": [
    "rf = RandomForestRegressor(n_estimators= 7)\n",
    "fit = rf.fit(X_train,y_train)\n",
    "\n",
    "predicted_DNI = rf.predict(X_test)\n",
    "\n",
    "expected_DNI = y_test\n",
    "\n",
    "df_pred = pd.DataFrame({'Predicted':predicted_DNI, 'Actual':expected_DNI})\n",
    "df_pred\n",
    "\n",
    "df_pred['Accuracy'] = df_pred['Actual'] - df_pred['Predicted']"
   ]
  },
  {
   "cell_type": "code",
   "execution_count": 23,
   "id": "9574da5c",
   "metadata": {},
   "outputs": [
    {
     "name": "stdout",
     "output_type": "stream",
     "text": [
      "MAPE: 1.1264978877008924\n"
     ]
    }
   ],
   "source": [
    "print(\"MAPE: %r\" % mape(expected_DNI, predicted_DNI))"
   ]
  },
  {
   "cell_type": "markdown",
   "id": "e1bcdc10",
   "metadata": {},
   "source": [
    "Daily Direct Horizontal Irradiance"
   ]
  },
  {
   "cell_type": "code",
   "execution_count": 24,
   "id": "802357fa",
   "metadata": {},
   "outputs": [],
   "source": [
    "X_rf_DHI = daily_df.drop(columns = drop1)\n",
    "\n",
    "y_rf_DHI = daily_df['DHI']\n",
    "\n",
    "X_train, X_test, y_train, y_test = train_test_split(X_rf_DHI, y_rf_DHI, test_size=0.3, random_state=42)"
   ]
  },
  {
   "cell_type": "code",
   "execution_count": 25,
   "id": "025a20e3",
   "metadata": {},
   "outputs": [],
   "source": [
    "rf = RandomForestRegressor(n_estimators= 50)\n",
    "fit = rf.fit(X_train,y_train)\n",
    "\n",
    "predicted_DHI = rf.predict(X_test)\n",
    "\n",
    "expected_DHI = y_test\n",
    "\n",
    "df_pred = pd.DataFrame({'Predicted':predicted_DHI, 'Actual':expected_DHI})\n",
    "df_pred\n",
    "\n",
    "df_pred['Accuracy'] = df_pred['Actual'] - df_pred['Predicted']"
   ]
  },
  {
   "cell_type": "code",
   "execution_count": 26,
   "id": "555d03ce",
   "metadata": {},
   "outputs": [
    {
     "name": "stdout",
     "output_type": "stream",
     "text": [
      "MAPE: 0.2626610280078882\n"
     ]
    }
   ],
   "source": [
    "print(\"MAPE: %r\" % mape(expected_DHI, predicted_DHI))"
   ]
  },
  {
   "cell_type": "code",
   "execution_count": 27,
   "id": "f8dcdbd6",
   "metadata": {},
   "outputs": [
    {
     "name": "stdout",
     "output_type": "stream",
     "text": [
      "RMSE: 72.44708531958045\n"
     ]
    }
   ],
   "source": [
    "print(\"RMSE: %r\" % np.sqrt(np.mean((df_pred[\"Accuracy\"])**2)))"
   ]
  },
  {
   "cell_type": "code",
   "execution_count": 28,
   "id": "d68d84c0",
   "metadata": {},
   "outputs": [
    {
     "data": {
      "text/plain": [
       "49.213403661783175"
      ]
     },
     "execution_count": 28,
     "metadata": {},
     "output_type": "execute_result"
    }
   ],
   "source": [
    "mae(expected, predicted)"
   ]
  },
  {
   "cell_type": "markdown",
   "id": "30ae34c1",
   "metadata": {},
   "source": [
    "XGBOOSTING"
   ]
  },
  {
   "cell_type": "code",
   "execution_count": 29,
   "id": "b8f1b790",
   "metadata": {},
   "outputs": [],
   "source": [
    "import xgboost\n",
    "from xgboost import XGBRegressor\n",
    "from sklearn.model_selection import cross_val_score\n",
    "from sklearn.model_selection import RepeatedKFold"
   ]
  },
  {
   "cell_type": "code",
   "execution_count": 30,
   "id": "c42a49cc",
   "metadata": {},
   "outputs": [],
   "source": [
    "drop1 = ['GHI', 'DNI', 'DHI', 'Date']\n",
    "\n",
    "X_xgb = daily_df.drop(columns = drop1)\n",
    "\n",
    "y_xgb = daily_df['GHI']\n",
    "\n",
    "X_train, X_test, y_train, y_test = train_test_split(X_xgb, y_xgb, test_size=0.3, random_state=42)"
   ]
  },
  {
   "cell_type": "code",
   "execution_count": 31,
   "id": "b565d836",
   "metadata": {},
   "outputs": [],
   "source": [
    "# create an xgboost regression model\n",
    "model = XGBRegressor(n_estimators=1000, max_depth=7, eta=0.1, subsample=0.7, colsample_bytree=0.8)"
   ]
  },
  {
   "cell_type": "code",
   "execution_count": 32,
   "id": "acbf3dfb",
   "metadata": {},
   "outputs": [],
   "source": [
    "# define model evaluation method\n",
    "#cv = RepeatedKFold(n_splits=10, n_repeats=3, random_state=1)\n",
    "# evaluate model\n",
    "#scores = cross_val_score(model, X_xgb, y_xgb, scoring='neg_mean_absolute_error', cv=cv, n_jobs=-1)"
   ]
  },
  {
   "cell_type": "code",
   "execution_count": null,
   "id": "65722188",
   "metadata": {},
   "outputs": [],
   "source": [
    "# fit model\n",
    "model.fit(X_xgb, y_xgb)\n",
    "# define new data\n",
    "row = [0.00632,18.00,2.310,0,0.5380,6.5750,65.20,4.0900,1,296.0,15.30,396.90,4.98]\n",
    "new_data = asarray([row])\n",
    "# make a prediction\n",
    "yhat = model.predict(new_data)\n",
    "# summarize prediction\n",
    "print('Predicted: %.3f' % yhat)"
   ]
  },
  {
   "cell_type": "code",
   "execution_count": null,
   "id": "40ffd74e",
   "metadata": {},
   "outputs": [],
   "source": []
  },
  {
   "cell_type": "code",
   "execution_count": 33,
   "id": "23e7d435",
   "metadata": {},
   "outputs": [],
   "source": [
    "#rf = RandomForestRegressor(n_estimators= 50)\n",
    "fit = model.fit(X_train,y_train)\n",
    "\n",
    "predicted_GHI = model.predict(X_test)\n",
    "\n",
    "expected_GHI = y_test\n",
    "\n",
    "df_pred = pd.DataFrame({'Predicted':predicted_GHI, 'Actual':expected_GHI})\n",
    "df_pred\n",
    "\n",
    "df_pred['Accuracy'] = df_pred['Actual'] - df_pred['Predicted']"
   ]
  },
  {
   "cell_type": "code",
   "execution_count": 34,
   "id": "0e927085",
   "metadata": {},
   "outputs": [
    {
     "name": "stdout",
     "output_type": "stream",
     "text": [
      "MAPE: 0.10068966424891965\n"
     ]
    }
   ],
   "source": [
    "print(\"MAPE: %r\" % mape(expected_GHI, predicted_GHI))"
   ]
  },
  {
   "cell_type": "markdown",
   "id": "09c3c5b7",
   "metadata": {},
   "source": [
    "Direct natural Irradiance"
   ]
  },
  {
   "cell_type": "code",
   "execution_count": 35,
   "id": "8becf919",
   "metadata": {},
   "outputs": [],
   "source": [
    "drop1 = ['GHI', 'DNI', 'DHI', 'Date']\n",
    "\n",
    "X_xgb_DNI = daily_df.drop(columns = drop1)\n",
    "\n",
    "y_xgb_DNI = daily_df['DNI']\n",
    "\n",
    "X_train, X_test, y_train, y_test = train_test_split(X_xgb_DNI, y_xgb_DNI, test_size=0.3, random_state=42)"
   ]
  },
  {
   "cell_type": "code",
   "execution_count": 36,
   "id": "79301771",
   "metadata": {},
   "outputs": [],
   "source": [
    "# create an xgboost regression model\n",
    "xgb_model = XGBRegressor(n_estimators=1000, max_depth=7, eta=0.1, subsample=0.7, colsample_bytree=0.8)"
   ]
  },
  {
   "cell_type": "code",
   "execution_count": 37,
   "id": "ad79fd58",
   "metadata": {},
   "outputs": [],
   "source": [
    "fit = xgb_model.fit(X_train,y_train)\n",
    "\n",
    "predicted_DNI = xgb_model.predict(X_test)\n",
    "\n",
    "expected_DNI = y_test\n",
    "\n",
    "df_pred = pd.DataFrame({'Predicted':predicted_DNI, 'Actual':expected_DNI})\n",
    "df_pred\n",
    "\n",
    "df_pred['Accuracy'] = df_pred['Actual'] - df_pred['Predicted']"
   ]
  },
  {
   "cell_type": "code",
   "execution_count": 38,
   "id": "099ba2ce",
   "metadata": {},
   "outputs": [
    {
     "name": "stdout",
     "output_type": "stream",
     "text": [
      "MAPE: 1.3220468163568773\n"
     ]
    }
   ],
   "source": [
    "print(\"MAPE: %r\" % mape(expected_DNI, predicted_DNI))"
   ]
  },
  {
   "cell_type": "code",
   "execution_count": 39,
   "id": "849d5f94",
   "metadata": {},
   "outputs": [
    {
     "name": "stdout",
     "output_type": "stream",
     "text": [
      "RMSE: 177.2204175824991\n"
     ]
    }
   ],
   "source": [
    "print(\"RMSE: %r\" % np.sqrt(np.mean((df_pred[\"Accuracy\"])**2)))"
   ]
  },
  {
   "cell_type": "code",
   "execution_count": 40,
   "id": "2d99b4a9",
   "metadata": {},
   "outputs": [
    {
     "data": {
      "text/plain": [
       "143.44201798827967"
      ]
     },
     "execution_count": 40,
     "metadata": {},
     "output_type": "execute_result"
    }
   ],
   "source": [
    "mae(expected_DNI, predicted_DNI)"
   ]
  },
  {
   "cell_type": "markdown",
   "id": "eec34b3a",
   "metadata": {},
   "source": [
    "Direct Horizontal Irradiance"
   ]
  },
  {
   "cell_type": "code",
   "execution_count": 41,
   "id": "565e05cd",
   "metadata": {},
   "outputs": [],
   "source": [
    "X_xgb_DHI = daily_df.drop(columns = drop1)\n",
    "\n",
    "y_xgb_DHI = daily_df['DHI']\n",
    "\n",
    "X_train, X_test, y_train, y_test = train_test_split(X_xgb_DHI, y_xgb_DHI, test_size=0.3, random_state=42)"
   ]
  },
  {
   "cell_type": "code",
   "execution_count": 42,
   "id": "5d25f76f",
   "metadata": {},
   "outputs": [],
   "source": [
    "fit = xgb_model.fit(X_train,y_train)\n",
    "\n",
    "predicted_DHI = xgb_model.predict(X_test)\n",
    "\n",
    "expected_DHI = y_test\n",
    "\n",
    "df_pred = pd.DataFrame({'Predicted':predicted_DHI, 'Actual':expected_DHI})\n",
    "df_pred\n",
    "\n",
    "df_pred['Accuracy'] = df_pred['Actual'] - df_pred['Predicted']"
   ]
  },
  {
   "cell_type": "code",
   "execution_count": 43,
   "id": "4894f7f5",
   "metadata": {},
   "outputs": [
    {
     "name": "stdout",
     "output_type": "stream",
     "text": [
      "MAPE: 0.28912127334683674\n"
     ]
    }
   ],
   "source": [
    "print(\"MAPE: %r\" % mape(expected_DHI, predicted_DHI))"
   ]
  },
  {
   "cell_type": "code",
   "execution_count": 44,
   "id": "d1a9c2a3",
   "metadata": {},
   "outputs": [
    {
     "name": "stdout",
     "output_type": "stream",
     "text": [
      "RMSE: 80.64505996853828\n"
     ]
    }
   ],
   "source": [
    "print(\"RMSE: %r\" % np.sqrt(np.mean((df_pred[\"Accuracy\"])**2)))"
   ]
  },
  {
   "cell_type": "code",
   "execution_count": 45,
   "id": "6feae1bd",
   "metadata": {},
   "outputs": [
    {
     "data": {
      "text/plain": [
       "65.26560911942892"
      ]
     },
     "execution_count": 45,
     "metadata": {},
     "output_type": "execute_result"
    }
   ],
   "source": [
    "mae(expected_DHI, predicted_DHI)"
   ]
  },
  {
   "cell_type": "code",
   "execution_count": null,
   "id": "a0c43bf3",
   "metadata": {},
   "outputs": [],
   "source": []
  },
  {
   "cell_type": "markdown",
   "id": "d920e8b2",
   "metadata": {},
   "source": [
    "MLP"
   ]
  },
  {
   "cell_type": "code",
   "execution_count": 46,
   "id": "ec919b4c",
   "metadata": {},
   "outputs": [],
   "source": [
    "from sklearn.neural_network import MLPRegressor\n",
    "from sklearn.datasets import make_regression\n",
    "from sklearn.model_selection import train_test_split\n",
    "#X, y = make_regression(n_samples=200, n_features=20, random_state=1)\n",
    "#X_train, X_test, y_train, y_test = train_test_split(X, y,\n",
    " #                                                   random_state=1)"
   ]
  },
  {
   "cell_type": "code",
   "execution_count": 47,
   "id": "f63fda5b",
   "metadata": {},
   "outputs": [],
   "source": [
    "drop1 = ['GHI', 'DNI', 'DHI', 'Date']\n",
    "\n",
    "X_mlp = daily_df.drop(columns = drop1)\n",
    "\n",
    "y_mlp = daily_df['GHI']\n",
    "\n",
    "X_train, X_test, y_train, y_test = train_test_split(X_mlp, y_mlp, test_size=0.3, random_state=42)"
   ]
  },
  {
   "cell_type": "code",
   "execution_count": 48,
   "id": "1ec03821",
   "metadata": {},
   "outputs": [
    {
     "data": {
      "text/html": [
       "<style>#sk-container-id-1 {color: black;background-color: white;}#sk-container-id-1 pre{padding: 0;}#sk-container-id-1 div.sk-toggleable {background-color: white;}#sk-container-id-1 label.sk-toggleable__label {cursor: pointer;display: block;width: 100%;margin-bottom: 0;padding: 0.3em;box-sizing: border-box;text-align: center;}#sk-container-id-1 label.sk-toggleable__label-arrow:before {content: \"▸\";float: left;margin-right: 0.25em;color: #696969;}#sk-container-id-1 label.sk-toggleable__label-arrow:hover:before {color: black;}#sk-container-id-1 div.sk-estimator:hover label.sk-toggleable__label-arrow:before {color: black;}#sk-container-id-1 div.sk-toggleable__content {max-height: 0;max-width: 0;overflow: hidden;text-align: left;background-color: #f0f8ff;}#sk-container-id-1 div.sk-toggleable__content pre {margin: 0.2em;color: black;border-radius: 0.25em;background-color: #f0f8ff;}#sk-container-id-1 input.sk-toggleable__control:checked~div.sk-toggleable__content {max-height: 200px;max-width: 100%;overflow: auto;}#sk-container-id-1 input.sk-toggleable__control:checked~label.sk-toggleable__label-arrow:before {content: \"▾\";}#sk-container-id-1 div.sk-estimator input.sk-toggleable__control:checked~label.sk-toggleable__label {background-color: #d4ebff;}#sk-container-id-1 div.sk-label input.sk-toggleable__control:checked~label.sk-toggleable__label {background-color: #d4ebff;}#sk-container-id-1 input.sk-hidden--visually {border: 0;clip: rect(1px 1px 1px 1px);clip: rect(1px, 1px, 1px, 1px);height: 1px;margin: -1px;overflow: hidden;padding: 0;position: absolute;width: 1px;}#sk-container-id-1 div.sk-estimator {font-family: monospace;background-color: #f0f8ff;border: 1px dotted black;border-radius: 0.25em;box-sizing: border-box;margin-bottom: 0.5em;}#sk-container-id-1 div.sk-estimator:hover {background-color: #d4ebff;}#sk-container-id-1 div.sk-parallel-item::after {content: \"\";width: 100%;border-bottom: 1px solid gray;flex-grow: 1;}#sk-container-id-1 div.sk-label:hover label.sk-toggleable__label {background-color: #d4ebff;}#sk-container-id-1 div.sk-serial::before {content: \"\";position: absolute;border-left: 1px solid gray;box-sizing: border-box;top: 0;bottom: 0;left: 50%;z-index: 0;}#sk-container-id-1 div.sk-serial {display: flex;flex-direction: column;align-items: center;background-color: white;padding-right: 0.2em;padding-left: 0.2em;position: relative;}#sk-container-id-1 div.sk-item {position: relative;z-index: 1;}#sk-container-id-1 div.sk-parallel {display: flex;align-items: stretch;justify-content: center;background-color: white;position: relative;}#sk-container-id-1 div.sk-item::before, #sk-container-id-1 div.sk-parallel-item::before {content: \"\";position: absolute;border-left: 1px solid gray;box-sizing: border-box;top: 0;bottom: 0;left: 50%;z-index: -1;}#sk-container-id-1 div.sk-parallel-item {display: flex;flex-direction: column;z-index: 1;position: relative;background-color: white;}#sk-container-id-1 div.sk-parallel-item:first-child::after {align-self: flex-end;width: 50%;}#sk-container-id-1 div.sk-parallel-item:last-child::after {align-self: flex-start;width: 50%;}#sk-container-id-1 div.sk-parallel-item:only-child::after {width: 0;}#sk-container-id-1 div.sk-dashed-wrapped {border: 1px dashed gray;margin: 0 0.4em 0.5em 0.4em;box-sizing: border-box;padding-bottom: 0.4em;background-color: white;}#sk-container-id-1 div.sk-label label {font-family: monospace;font-weight: bold;display: inline-block;line-height: 1.2em;}#sk-container-id-1 div.sk-label-container {text-align: center;}#sk-container-id-1 div.sk-container {/* jupyter's `normalize.less` sets `[hidden] { display: none; }` but bootstrap.min.css set `[hidden] { display: none !important; }` so we also need the `!important` here to be able to override the default hidden behavior on the sphinx rendered scikit-learn.org. See: https://github.com/scikit-learn/scikit-learn/issues/21755 */display: inline-block !important;position: relative;}#sk-container-id-1 div.sk-text-repr-fallback {display: none;}</style><div id=\"sk-container-id-1\" class=\"sk-top-container\"><div class=\"sk-text-repr-fallback\"><pre>MLPRegressor(max_iter=2000, random_state=1, tol=0.1)</pre><b>In a Jupyter environment, please rerun this cell to show the HTML representation or trust the notebook. <br />On GitHub, the HTML representation is unable to render, please try loading this page with nbviewer.org.</b></div><div class=\"sk-container\" hidden><div class=\"sk-item\"><div class=\"sk-estimator sk-toggleable\"><input class=\"sk-toggleable__control sk-hidden--visually\" id=\"sk-estimator-id-1\" type=\"checkbox\" checked><label for=\"sk-estimator-id-1\" class=\"sk-toggleable__label sk-toggleable__label-arrow\">MLPRegressor</label><div class=\"sk-toggleable__content\"><pre>MLPRegressor(max_iter=2000, random_state=1, tol=0.1)</pre></div></div></div></div></div>"
      ],
      "text/plain": [
       "MLPRegressor(max_iter=2000, random_state=1, tol=0.1)"
      ]
     },
     "execution_count": 48,
     "metadata": {},
     "output_type": "execute_result"
    }
   ],
   "source": [
    "regr = MLPRegressor(random_state=1, max_iter=2000, tol=0.1)\n",
    "regr.fit(X_train, y_train)"
   ]
  },
  {
   "cell_type": "code",
   "execution_count": null,
   "id": "e299b64d",
   "metadata": {},
   "outputs": [],
   "source": []
  },
  {
   "cell_type": "code",
   "execution_count": 49,
   "id": "9c516723",
   "metadata": {},
   "outputs": [],
   "source": [
    "predicted_GHI = regr.predict(X_test)\n",
    "\n",
    "expected_GHI = y_test\n",
    "\n",
    "df_pred = pd.DataFrame({'Predicted':predicted_GHI, 'Actual':expected_GHI})\n",
    "df_pred\n",
    "\n",
    "df_pred['Accuracy'] = df_pred['Actual'] - df_pred['Predicted']"
   ]
  },
  {
   "cell_type": "code",
   "execution_count": 50,
   "id": "6f70f4d5",
   "metadata": {},
   "outputs": [
    {
     "name": "stdout",
     "output_type": "stream",
     "text": [
      "MAPE: 0.11777797585807512\n"
     ]
    }
   ],
   "source": [
    "print(\"MAPE: %r\" % mape(expected_GHI, predicted_GHI))"
   ]
  },
  {
   "cell_type": "markdown",
   "id": "e835cf64",
   "metadata": {},
   "source": [
    "Direct Normal Irradiance"
   ]
  },
  {
   "cell_type": "code",
   "execution_count": 51,
   "id": "bb12267b",
   "metadata": {},
   "outputs": [],
   "source": [
    "drop1 = ['GHI', 'DNI', 'DHI', 'Date']\n",
    "\n",
    "X_mlp = daily_df.drop(columns = drop1)\n",
    "\n",
    "y_mlp = daily_df['DNI']\n",
    "\n",
    "X_train, X_test, y_train, y_test = train_test_split(X_mlp, y_mlp, test_size=0.3, random_state=42)"
   ]
  },
  {
   "cell_type": "code",
   "execution_count": 52,
   "id": "ce0e5ae8",
   "metadata": {},
   "outputs": [
    {
     "data": {
      "text/html": [
       "<style>#sk-container-id-2 {color: black;background-color: white;}#sk-container-id-2 pre{padding: 0;}#sk-container-id-2 div.sk-toggleable {background-color: white;}#sk-container-id-2 label.sk-toggleable__label {cursor: pointer;display: block;width: 100%;margin-bottom: 0;padding: 0.3em;box-sizing: border-box;text-align: center;}#sk-container-id-2 label.sk-toggleable__label-arrow:before {content: \"▸\";float: left;margin-right: 0.25em;color: #696969;}#sk-container-id-2 label.sk-toggleable__label-arrow:hover:before {color: black;}#sk-container-id-2 div.sk-estimator:hover label.sk-toggleable__label-arrow:before {color: black;}#sk-container-id-2 div.sk-toggleable__content {max-height: 0;max-width: 0;overflow: hidden;text-align: left;background-color: #f0f8ff;}#sk-container-id-2 div.sk-toggleable__content pre {margin: 0.2em;color: black;border-radius: 0.25em;background-color: #f0f8ff;}#sk-container-id-2 input.sk-toggleable__control:checked~div.sk-toggleable__content {max-height: 200px;max-width: 100%;overflow: auto;}#sk-container-id-2 input.sk-toggleable__control:checked~label.sk-toggleable__label-arrow:before {content: \"▾\";}#sk-container-id-2 div.sk-estimator input.sk-toggleable__control:checked~label.sk-toggleable__label {background-color: #d4ebff;}#sk-container-id-2 div.sk-label input.sk-toggleable__control:checked~label.sk-toggleable__label {background-color: #d4ebff;}#sk-container-id-2 input.sk-hidden--visually {border: 0;clip: rect(1px 1px 1px 1px);clip: rect(1px, 1px, 1px, 1px);height: 1px;margin: -1px;overflow: hidden;padding: 0;position: absolute;width: 1px;}#sk-container-id-2 div.sk-estimator {font-family: monospace;background-color: #f0f8ff;border: 1px dotted black;border-radius: 0.25em;box-sizing: border-box;margin-bottom: 0.5em;}#sk-container-id-2 div.sk-estimator:hover {background-color: #d4ebff;}#sk-container-id-2 div.sk-parallel-item::after {content: \"\";width: 100%;border-bottom: 1px solid gray;flex-grow: 1;}#sk-container-id-2 div.sk-label:hover label.sk-toggleable__label {background-color: #d4ebff;}#sk-container-id-2 div.sk-serial::before {content: \"\";position: absolute;border-left: 1px solid gray;box-sizing: border-box;top: 0;bottom: 0;left: 50%;z-index: 0;}#sk-container-id-2 div.sk-serial {display: flex;flex-direction: column;align-items: center;background-color: white;padding-right: 0.2em;padding-left: 0.2em;position: relative;}#sk-container-id-2 div.sk-item {position: relative;z-index: 1;}#sk-container-id-2 div.sk-parallel {display: flex;align-items: stretch;justify-content: center;background-color: white;position: relative;}#sk-container-id-2 div.sk-item::before, #sk-container-id-2 div.sk-parallel-item::before {content: \"\";position: absolute;border-left: 1px solid gray;box-sizing: border-box;top: 0;bottom: 0;left: 50%;z-index: -1;}#sk-container-id-2 div.sk-parallel-item {display: flex;flex-direction: column;z-index: 1;position: relative;background-color: white;}#sk-container-id-2 div.sk-parallel-item:first-child::after {align-self: flex-end;width: 50%;}#sk-container-id-2 div.sk-parallel-item:last-child::after {align-self: flex-start;width: 50%;}#sk-container-id-2 div.sk-parallel-item:only-child::after {width: 0;}#sk-container-id-2 div.sk-dashed-wrapped {border: 1px dashed gray;margin: 0 0.4em 0.5em 0.4em;box-sizing: border-box;padding-bottom: 0.4em;background-color: white;}#sk-container-id-2 div.sk-label label {font-family: monospace;font-weight: bold;display: inline-block;line-height: 1.2em;}#sk-container-id-2 div.sk-label-container {text-align: center;}#sk-container-id-2 div.sk-container {/* jupyter's `normalize.less` sets `[hidden] { display: none; }` but bootstrap.min.css set `[hidden] { display: none !important; }` so we also need the `!important` here to be able to override the default hidden behavior on the sphinx rendered scikit-learn.org. See: https://github.com/scikit-learn/scikit-learn/issues/21755 */display: inline-block !important;position: relative;}#sk-container-id-2 div.sk-text-repr-fallback {display: none;}</style><div id=\"sk-container-id-2\" class=\"sk-top-container\"><div class=\"sk-text-repr-fallback\"><pre>MLPRegressor(max_iter=2000, random_state=1, tol=0.1)</pre><b>In a Jupyter environment, please rerun this cell to show the HTML representation or trust the notebook. <br />On GitHub, the HTML representation is unable to render, please try loading this page with nbviewer.org.</b></div><div class=\"sk-container\" hidden><div class=\"sk-item\"><div class=\"sk-estimator sk-toggleable\"><input class=\"sk-toggleable__control sk-hidden--visually\" id=\"sk-estimator-id-2\" type=\"checkbox\" checked><label for=\"sk-estimator-id-2\" class=\"sk-toggleable__label sk-toggleable__label-arrow\">MLPRegressor</label><div class=\"sk-toggleable__content\"><pre>MLPRegressor(max_iter=2000, random_state=1, tol=0.1)</pre></div></div></div></div></div>"
      ],
      "text/plain": [
       "MLPRegressor(max_iter=2000, random_state=1, tol=0.1)"
      ]
     },
     "execution_count": 52,
     "metadata": {},
     "output_type": "execute_result"
    }
   ],
   "source": [
    "regr = MLPRegressor(random_state=1, max_iter=2000, tol=0.1)\n",
    "regr.fit(X_train, y_train)"
   ]
  },
  {
   "cell_type": "code",
   "execution_count": 53,
   "id": "c194164c",
   "metadata": {},
   "outputs": [],
   "source": [
    "predicted_DNI = regr.predict(X_test)\n",
    "\n",
    "expected_DNI = y_test\n",
    "\n",
    "df_pred = pd.DataFrame({'Predicted':predicted_DNI, 'Actual':expected_DNI})\n",
    "df_pred\n",
    "\n",
    "df_pred['Accuracy'] = df_pred['Actual'] - df_pred['Predicted']"
   ]
  },
  {
   "cell_type": "code",
   "execution_count": 54,
   "id": "174aa694",
   "metadata": {},
   "outputs": [
    {
     "name": "stdout",
     "output_type": "stream",
     "text": [
      "MAPE: 2.0355100336060454\n"
     ]
    }
   ],
   "source": [
    "print(\"MAPE: %r\" % mape(expected_DNI, predicted_DNI))"
   ]
  },
  {
   "cell_type": "markdown",
   "id": "de84cec0",
   "metadata": {},
   "source": [
    "Direct Horizontal Irradiance"
   ]
  },
  {
   "cell_type": "code",
   "execution_count": 55,
   "id": "8a154c4d",
   "metadata": {},
   "outputs": [],
   "source": [
    "drop1 = ['GHI', 'DNI', 'DHI', 'Date']\n",
    "\n",
    "X_mlp = daily_df.drop(columns = drop1)\n",
    "\n",
    "y_mlp = daily_df['DHI']\n",
    "\n",
    "X_train, X_test, y_train, y_test = train_test_split(X_mlp, y_mlp, test_size=0.3, random_state=42)"
   ]
  },
  {
   "cell_type": "code",
   "execution_count": 56,
   "id": "1f199f96",
   "metadata": {},
   "outputs": [
    {
     "data": {
      "text/html": [
       "<style>#sk-container-id-3 {color: black;background-color: white;}#sk-container-id-3 pre{padding: 0;}#sk-container-id-3 div.sk-toggleable {background-color: white;}#sk-container-id-3 label.sk-toggleable__label {cursor: pointer;display: block;width: 100%;margin-bottom: 0;padding: 0.3em;box-sizing: border-box;text-align: center;}#sk-container-id-3 label.sk-toggleable__label-arrow:before {content: \"▸\";float: left;margin-right: 0.25em;color: #696969;}#sk-container-id-3 label.sk-toggleable__label-arrow:hover:before {color: black;}#sk-container-id-3 div.sk-estimator:hover label.sk-toggleable__label-arrow:before {color: black;}#sk-container-id-3 div.sk-toggleable__content {max-height: 0;max-width: 0;overflow: hidden;text-align: left;background-color: #f0f8ff;}#sk-container-id-3 div.sk-toggleable__content pre {margin: 0.2em;color: black;border-radius: 0.25em;background-color: #f0f8ff;}#sk-container-id-3 input.sk-toggleable__control:checked~div.sk-toggleable__content {max-height: 200px;max-width: 100%;overflow: auto;}#sk-container-id-3 input.sk-toggleable__control:checked~label.sk-toggleable__label-arrow:before {content: \"▾\";}#sk-container-id-3 div.sk-estimator input.sk-toggleable__control:checked~label.sk-toggleable__label {background-color: #d4ebff;}#sk-container-id-3 div.sk-label input.sk-toggleable__control:checked~label.sk-toggleable__label {background-color: #d4ebff;}#sk-container-id-3 input.sk-hidden--visually {border: 0;clip: rect(1px 1px 1px 1px);clip: rect(1px, 1px, 1px, 1px);height: 1px;margin: -1px;overflow: hidden;padding: 0;position: absolute;width: 1px;}#sk-container-id-3 div.sk-estimator {font-family: monospace;background-color: #f0f8ff;border: 1px dotted black;border-radius: 0.25em;box-sizing: border-box;margin-bottom: 0.5em;}#sk-container-id-3 div.sk-estimator:hover {background-color: #d4ebff;}#sk-container-id-3 div.sk-parallel-item::after {content: \"\";width: 100%;border-bottom: 1px solid gray;flex-grow: 1;}#sk-container-id-3 div.sk-label:hover label.sk-toggleable__label {background-color: #d4ebff;}#sk-container-id-3 div.sk-serial::before {content: \"\";position: absolute;border-left: 1px solid gray;box-sizing: border-box;top: 0;bottom: 0;left: 50%;z-index: 0;}#sk-container-id-3 div.sk-serial {display: flex;flex-direction: column;align-items: center;background-color: white;padding-right: 0.2em;padding-left: 0.2em;position: relative;}#sk-container-id-3 div.sk-item {position: relative;z-index: 1;}#sk-container-id-3 div.sk-parallel {display: flex;align-items: stretch;justify-content: center;background-color: white;position: relative;}#sk-container-id-3 div.sk-item::before, #sk-container-id-3 div.sk-parallel-item::before {content: \"\";position: absolute;border-left: 1px solid gray;box-sizing: border-box;top: 0;bottom: 0;left: 50%;z-index: -1;}#sk-container-id-3 div.sk-parallel-item {display: flex;flex-direction: column;z-index: 1;position: relative;background-color: white;}#sk-container-id-3 div.sk-parallel-item:first-child::after {align-self: flex-end;width: 50%;}#sk-container-id-3 div.sk-parallel-item:last-child::after {align-self: flex-start;width: 50%;}#sk-container-id-3 div.sk-parallel-item:only-child::after {width: 0;}#sk-container-id-3 div.sk-dashed-wrapped {border: 1px dashed gray;margin: 0 0.4em 0.5em 0.4em;box-sizing: border-box;padding-bottom: 0.4em;background-color: white;}#sk-container-id-3 div.sk-label label {font-family: monospace;font-weight: bold;display: inline-block;line-height: 1.2em;}#sk-container-id-3 div.sk-label-container {text-align: center;}#sk-container-id-3 div.sk-container {/* jupyter's `normalize.less` sets `[hidden] { display: none; }` but bootstrap.min.css set `[hidden] { display: none !important; }` so we also need the `!important` here to be able to override the default hidden behavior on the sphinx rendered scikit-learn.org. See: https://github.com/scikit-learn/scikit-learn/issues/21755 */display: inline-block !important;position: relative;}#sk-container-id-3 div.sk-text-repr-fallback {display: none;}</style><div id=\"sk-container-id-3\" class=\"sk-top-container\"><div class=\"sk-text-repr-fallback\"><pre>MLPRegressor(max_iter=2000, random_state=1, tol=0.1)</pre><b>In a Jupyter environment, please rerun this cell to show the HTML representation or trust the notebook. <br />On GitHub, the HTML representation is unable to render, please try loading this page with nbviewer.org.</b></div><div class=\"sk-container\" hidden><div class=\"sk-item\"><div class=\"sk-estimator sk-toggleable\"><input class=\"sk-toggleable__control sk-hidden--visually\" id=\"sk-estimator-id-3\" type=\"checkbox\" checked><label for=\"sk-estimator-id-3\" class=\"sk-toggleable__label sk-toggleable__label-arrow\">MLPRegressor</label><div class=\"sk-toggleable__content\"><pre>MLPRegressor(max_iter=2000, random_state=1, tol=0.1)</pre></div></div></div></div></div>"
      ],
      "text/plain": [
       "MLPRegressor(max_iter=2000, random_state=1, tol=0.1)"
      ]
     },
     "execution_count": 56,
     "metadata": {},
     "output_type": "execute_result"
    }
   ],
   "source": [
    "regr = MLPRegressor(random_state=1, max_iter=2000, tol=0.1)\n",
    "regr.fit(X_train, y_train)"
   ]
  },
  {
   "cell_type": "code",
   "execution_count": 57,
   "id": "f6f5cf8d",
   "metadata": {},
   "outputs": [],
   "source": [
    "predicted_DHI = regr.predict(X_test)\n",
    "\n",
    "expected_DHI = y_test\n",
    "\n",
    "df_pred = pd.DataFrame({'Predicted':predicted_DHI, 'Actual':expected_DHI})\n",
    "df_pred\n",
    "\n",
    "df_pred['Accuracy'] = df_pred['Actual'] - df_pred['Predicted']"
   ]
  },
  {
   "cell_type": "code",
   "execution_count": 67,
   "id": "94818709",
   "metadata": {},
   "outputs": [
    {
     "name": "stdout",
     "output_type": "stream",
     "text": [
      "MAPE: 0.29414755994897307\n"
     ]
    }
   ],
   "source": [
    "print(\"MAPE: %r\" % mape(expected_DHI, predicted_DHI))"
   ]
  },
  {
   "cell_type": "code",
   "execution_count": null,
   "id": "b673b05d",
   "metadata": {},
   "outputs": [],
   "source": []
  },
  {
   "cell_type": "code",
   "execution_count": null,
   "id": "6b31deb2",
   "metadata": {},
   "outputs": [],
   "source": []
  },
  {
   "cell_type": "code",
   "execution_count": 79,
   "id": "7ae2b52d",
   "metadata": {},
   "outputs": [],
   "source": [
    "hourly_df = pd.concat([hourly_df2021, hourly_df2022], ignore_index=True, sort=False)"
   ]
  },
  {
   "cell_type": "code",
   "execution_count": 80,
   "id": "6e786054",
   "metadata": {},
   "outputs": [
    {
     "data": {
      "text/html": [
       "<div>\n",
       "<style scoped>\n",
       "    .dataframe tbody tr th:only-of-type {\n",
       "        vertical-align: middle;\n",
       "    }\n",
       "\n",
       "    .dataframe tbody tr th {\n",
       "        vertical-align: top;\n",
       "    }\n",
       "\n",
       "    .dataframe thead th {\n",
       "        text-align: right;\n",
       "    }\n",
       "</style>\n",
       "<table border=\"1\" class=\"dataframe\">\n",
       "  <thead>\n",
       "    <tr style=\"text-align: right;\">\n",
       "      <th></th>\n",
       "      <th>Date</th>\n",
       "      <th>Hour of the day</th>\n",
       "      <th>GHI</th>\n",
       "      <th>DNI</th>\n",
       "      <th>DHI</th>\n",
       "      <th>ModA</th>\n",
       "      <th>ModB</th>\n",
       "      <th>Tamb</th>\n",
       "      <th>RH</th>\n",
       "      <th>WS</th>\n",
       "      <th>WSgust</th>\n",
       "      <th>WSstdev</th>\n",
       "      <th>WD</th>\n",
       "      <th>WDstdev</th>\n",
       "      <th>BP</th>\n",
       "      <th>Cleaning</th>\n",
       "      <th>Precipitation</th>\n",
       "      <th>TModA</th>\n",
       "      <th>TModB</th>\n",
       "      <th>Comments</th>\n",
       "    </tr>\n",
       "  </thead>\n",
       "  <tbody>\n",
       "    <tr>\n",
       "      <th>0</th>\n",
       "      <td>2021-09-20</td>\n",
       "      <td>7</td>\n",
       "      <td>237.725000</td>\n",
       "      <td>283.761667</td>\n",
       "      <td>143.525000</td>\n",
       "      <td>217.800000</td>\n",
       "      <td>216.675000</td>\n",
       "      <td>23.466667</td>\n",
       "      <td>87.990000</td>\n",
       "      <td>0.311667</td>\n",
       "      <td>0.698333</td>\n",
       "      <td>0.230000</td>\n",
       "      <td>121.733333</td>\n",
       "      <td>2.771667</td>\n",
       "      <td>947.850000</td>\n",
       "      <td>0.000000</td>\n",
       "      <td>0.0</td>\n",
       "      <td>26.170000</td>\n",
       "      <td>33.225000</td>\n",
       "      <td>NaN</td>\n",
       "    </tr>\n",
       "    <tr>\n",
       "      <th>1</th>\n",
       "      <td>2021-09-20</td>\n",
       "      <td>8</td>\n",
       "      <td>457.741667</td>\n",
       "      <td>444.431667</td>\n",
       "      <td>214.500000</td>\n",
       "      <td>435.441667</td>\n",
       "      <td>433.575000</td>\n",
       "      <td>26.660000</td>\n",
       "      <td>71.166667</td>\n",
       "      <td>0.493333</td>\n",
       "      <td>0.908333</td>\n",
       "      <td>0.275000</td>\n",
       "      <td>109.673333</td>\n",
       "      <td>6.033333</td>\n",
       "      <td>948.700000</td>\n",
       "      <td>0.000000</td>\n",
       "      <td>0.0</td>\n",
       "      <td>44.688333</td>\n",
       "      <td>52.365000</td>\n",
       "      <td>NaN</td>\n",
       "    </tr>\n",
       "    <tr>\n",
       "      <th>2</th>\n",
       "      <td>2021-09-20</td>\n",
       "      <td>9</td>\n",
       "      <td>613.178333</td>\n",
       "      <td>422.545000</td>\n",
       "      <td>299.366667</td>\n",
       "      <td>593.603333</td>\n",
       "      <td>594.361667</td>\n",
       "      <td>28.591667</td>\n",
       "      <td>61.870000</td>\n",
       "      <td>0.790000</td>\n",
       "      <td>1.443333</td>\n",
       "      <td>0.458333</td>\n",
       "      <td>73.036667</td>\n",
       "      <td>8.131667</td>\n",
       "      <td>949.000000</td>\n",
       "      <td>0.000000</td>\n",
       "      <td>0.0</td>\n",
       "      <td>59.693333</td>\n",
       "      <td>58.426667</td>\n",
       "      <td>NaN</td>\n",
       "    </tr>\n",
       "    <tr>\n",
       "      <th>3</th>\n",
       "      <td>2021-09-20</td>\n",
       "      <td>10</td>\n",
       "      <td>809.296667</td>\n",
       "      <td>559.368333</td>\n",
       "      <td>308.053333</td>\n",
       "      <td>779.606667</td>\n",
       "      <td>785.160000</td>\n",
       "      <td>30.105000</td>\n",
       "      <td>56.510000</td>\n",
       "      <td>0.676667</td>\n",
       "      <td>1.376667</td>\n",
       "      <td>0.448333</td>\n",
       "      <td>103.640000</td>\n",
       "      <td>8.705000</td>\n",
       "      <td>949.000000</td>\n",
       "      <td>0.033333</td>\n",
       "      <td>0.0</td>\n",
       "      <td>72.160000</td>\n",
       "      <td>67.316667</td>\n",
       "      <td>NaN</td>\n",
       "    </tr>\n",
       "    <tr>\n",
       "      <th>4</th>\n",
       "      <td>2021-09-20</td>\n",
       "      <td>11</td>\n",
       "      <td>844.211667</td>\n",
       "      <td>440.136667</td>\n",
       "      <td>415.031667</td>\n",
       "      <td>812.910000</td>\n",
       "      <td>814.096667</td>\n",
       "      <td>31.110000</td>\n",
       "      <td>57.560000</td>\n",
       "      <td>1.363333</td>\n",
       "      <td>2.165000</td>\n",
       "      <td>0.488333</td>\n",
       "      <td>139.083333</td>\n",
       "      <td>10.533333</td>\n",
       "      <td>948.433333</td>\n",
       "      <td>0.000000</td>\n",
       "      <td>0.0</td>\n",
       "      <td>74.750000</td>\n",
       "      <td>68.701667</td>\n",
       "      <td>NaN</td>\n",
       "    </tr>\n",
       "    <tr>\n",
       "      <th>...</th>\n",
       "      <td>...</td>\n",
       "      <td>...</td>\n",
       "      <td>...</td>\n",
       "      <td>...</td>\n",
       "      <td>...</td>\n",
       "      <td>...</td>\n",
       "      <td>...</td>\n",
       "      <td>...</td>\n",
       "      <td>...</td>\n",
       "      <td>...</td>\n",
       "      <td>...</td>\n",
       "      <td>...</td>\n",
       "      <td>...</td>\n",
       "      <td>...</td>\n",
       "      <td>...</td>\n",
       "      <td>...</td>\n",
       "      <td>...</td>\n",
       "      <td>...</td>\n",
       "      <td>...</td>\n",
       "      <td>...</td>\n",
       "    </tr>\n",
       "    <tr>\n",
       "      <th>7737</th>\n",
       "      <td>2023-09-19</td>\n",
       "      <td>1</td>\n",
       "      <td>657.718333</td>\n",
       "      <td>202.610000</td>\n",
       "      <td>470.750000</td>\n",
       "      <td>630.500000</td>\n",
       "      <td>641.316667</td>\n",
       "      <td>30.491667</td>\n",
       "      <td>59.595000</td>\n",
       "      <td>2.066667</td>\n",
       "      <td>2.846667</td>\n",
       "      <td>0.553333</td>\n",
       "      <td>81.163333</td>\n",
       "      <td>13.761667</td>\n",
       "      <td>948.466667</td>\n",
       "      <td>0.000000</td>\n",
       "      <td>0.0</td>\n",
       "      <td>64.925000</td>\n",
       "      <td>54.121667</td>\n",
       "      <td>NaN</td>\n",
       "    </tr>\n",
       "    <tr>\n",
       "      <th>7738</th>\n",
       "      <td>2023-09-19</td>\n",
       "      <td>2</td>\n",
       "      <td>683.413333</td>\n",
       "      <td>378.256667</td>\n",
       "      <td>379.966667</td>\n",
       "      <td>645.273333</td>\n",
       "      <td>654.366667</td>\n",
       "      <td>30.635000</td>\n",
       "      <td>57.706667</td>\n",
       "      <td>2.808333</td>\n",
       "      <td>3.681667</td>\n",
       "      <td>0.573333</td>\n",
       "      <td>81.485000</td>\n",
       "      <td>13.723333</td>\n",
       "      <td>947.583333</td>\n",
       "      <td>0.000000</td>\n",
       "      <td>0.0</td>\n",
       "      <td>65.583333</td>\n",
       "      <td>52.485000</td>\n",
       "      <td>NaN</td>\n",
       "    </tr>\n",
       "    <tr>\n",
       "      <th>7739</th>\n",
       "      <td>2023-09-19</td>\n",
       "      <td>3</td>\n",
       "      <td>515.335000</td>\n",
       "      <td>307.823333</td>\n",
       "      <td>315.051667</td>\n",
       "      <td>482.530000</td>\n",
       "      <td>488.038333</td>\n",
       "      <td>30.748333</td>\n",
       "      <td>56.531667</td>\n",
       "      <td>1.523333</td>\n",
       "      <td>2.241667</td>\n",
       "      <td>0.500000</td>\n",
       "      <td>79.075000</td>\n",
       "      <td>10.736667</td>\n",
       "      <td>947.000000</td>\n",
       "      <td>0.000000</td>\n",
       "      <td>0.0</td>\n",
       "      <td>59.496667</td>\n",
       "      <td>46.040000</td>\n",
       "      <td>NaN</td>\n",
       "    </tr>\n",
       "    <tr>\n",
       "      <th>7740</th>\n",
       "      <td>2023-09-19</td>\n",
       "      <td>4</td>\n",
       "      <td>410.488333</td>\n",
       "      <td>485.986667</td>\n",
       "      <td>200.776667</td>\n",
       "      <td>368.795000</td>\n",
       "      <td>370.751667</td>\n",
       "      <td>30.725000</td>\n",
       "      <td>56.268333</td>\n",
       "      <td>1.860000</td>\n",
       "      <td>2.515000</td>\n",
       "      <td>0.488333</td>\n",
       "      <td>71.120000</td>\n",
       "      <td>10.803333</td>\n",
       "      <td>946.350000</td>\n",
       "      <td>0.000000</td>\n",
       "      <td>0.0</td>\n",
       "      <td>56.993333</td>\n",
       "      <td>41.616667</td>\n",
       "      <td>NaN</td>\n",
       "    </tr>\n",
       "    <tr>\n",
       "      <th>7741</th>\n",
       "      <td>2023-09-19</td>\n",
       "      <td>5</td>\n",
       "      <td>214.071429</td>\n",
       "      <td>261.114286</td>\n",
       "      <td>136.842857</td>\n",
       "      <td>187.871429</td>\n",
       "      <td>188.885714</td>\n",
       "      <td>30.128571</td>\n",
       "      <td>55.557143</td>\n",
       "      <td>2.614286</td>\n",
       "      <td>3.414286</td>\n",
       "      <td>0.500000</td>\n",
       "      <td>71.771429</td>\n",
       "      <td>10.314286</td>\n",
       "      <td>946.000000</td>\n",
       "      <td>0.000000</td>\n",
       "      <td>0.0</td>\n",
       "      <td>49.328571</td>\n",
       "      <td>36.957143</td>\n",
       "      <td>NaN</td>\n",
       "    </tr>\n",
       "  </tbody>\n",
       "</table>\n",
       "<p>7742 rows × 20 columns</p>\n",
       "</div>"
      ],
      "text/plain": [
       "           Date  Hour of the day         GHI         DNI         DHI  \\\n",
       "0    2021-09-20                7  237.725000  283.761667  143.525000   \n",
       "1    2021-09-20                8  457.741667  444.431667  214.500000   \n",
       "2    2021-09-20                9  613.178333  422.545000  299.366667   \n",
       "3    2021-09-20               10  809.296667  559.368333  308.053333   \n",
       "4    2021-09-20               11  844.211667  440.136667  415.031667   \n",
       "...         ...              ...         ...         ...         ...   \n",
       "7737 2023-09-19                1  657.718333  202.610000  470.750000   \n",
       "7738 2023-09-19                2  683.413333  378.256667  379.966667   \n",
       "7739 2023-09-19                3  515.335000  307.823333  315.051667   \n",
       "7740 2023-09-19                4  410.488333  485.986667  200.776667   \n",
       "7741 2023-09-19                5  214.071429  261.114286  136.842857   \n",
       "\n",
       "            ModA        ModB       Tamb         RH        WS    WSgust  \\\n",
       "0     217.800000  216.675000  23.466667  87.990000  0.311667  0.698333   \n",
       "1     435.441667  433.575000  26.660000  71.166667  0.493333  0.908333   \n",
       "2     593.603333  594.361667  28.591667  61.870000  0.790000  1.443333   \n",
       "3     779.606667  785.160000  30.105000  56.510000  0.676667  1.376667   \n",
       "4     812.910000  814.096667  31.110000  57.560000  1.363333  2.165000   \n",
       "...          ...         ...        ...        ...       ...       ...   \n",
       "7737  630.500000  641.316667  30.491667  59.595000  2.066667  2.846667   \n",
       "7738  645.273333  654.366667  30.635000  57.706667  2.808333  3.681667   \n",
       "7739  482.530000  488.038333  30.748333  56.531667  1.523333  2.241667   \n",
       "7740  368.795000  370.751667  30.725000  56.268333  1.860000  2.515000   \n",
       "7741  187.871429  188.885714  30.128571  55.557143  2.614286  3.414286   \n",
       "\n",
       "       WSstdev          WD    WDstdev          BP  Cleaning  Precipitation  \\\n",
       "0     0.230000  121.733333   2.771667  947.850000  0.000000            0.0   \n",
       "1     0.275000  109.673333   6.033333  948.700000  0.000000            0.0   \n",
       "2     0.458333   73.036667   8.131667  949.000000  0.000000            0.0   \n",
       "3     0.448333  103.640000   8.705000  949.000000  0.033333            0.0   \n",
       "4     0.488333  139.083333  10.533333  948.433333  0.000000            0.0   \n",
       "...        ...         ...        ...         ...       ...            ...   \n",
       "7737  0.553333   81.163333  13.761667  948.466667  0.000000            0.0   \n",
       "7738  0.573333   81.485000  13.723333  947.583333  0.000000            0.0   \n",
       "7739  0.500000   79.075000  10.736667  947.000000  0.000000            0.0   \n",
       "7740  0.488333   71.120000  10.803333  946.350000  0.000000            0.0   \n",
       "7741  0.500000   71.771429  10.314286  946.000000  0.000000            0.0   \n",
       "\n",
       "          TModA      TModB  Comments  \n",
       "0     26.170000  33.225000       NaN  \n",
       "1     44.688333  52.365000       NaN  \n",
       "2     59.693333  58.426667       NaN  \n",
       "3     72.160000  67.316667       NaN  \n",
       "4     74.750000  68.701667       NaN  \n",
       "...         ...        ...       ...  \n",
       "7737  64.925000  54.121667       NaN  \n",
       "7738  65.583333  52.485000       NaN  \n",
       "7739  59.496667  46.040000       NaN  \n",
       "7740  56.993333  41.616667       NaN  \n",
       "7741  49.328571  36.957143       NaN  \n",
       "\n",
       "[7742 rows x 20 columns]"
      ]
     },
     "execution_count": 80,
     "metadata": {},
     "output_type": "execute_result"
    }
   ],
   "source": [
    "hourly_df"
   ]
  },
  {
   "cell_type": "code",
   "execution_count": 81,
   "id": "b26b3826",
   "metadata": {},
   "outputs": [
    {
     "name": "stdout",
     "output_type": "stream",
     "text": [
      "<class 'pandas.core.frame.DataFrame'>\n",
      "RangeIndex: 7742 entries, 0 to 7741\n",
      "Data columns (total 20 columns):\n",
      " #   Column           Non-Null Count  Dtype         \n",
      "---  ------           --------------  -----         \n",
      " 0   Date             7742 non-null   datetime64[ns]\n",
      " 1   Hour of the day  7742 non-null   int64         \n",
      " 2   GHI              7742 non-null   float64       \n",
      " 3   DNI              7742 non-null   float64       \n",
      " 4   DHI              7742 non-null   float64       \n",
      " 5   ModA             7742 non-null   float64       \n",
      " 6   ModB             7742 non-null   float64       \n",
      " 7   Tamb             7742 non-null   float64       \n",
      " 8   RH               7742 non-null   float64       \n",
      " 9   WS               7632 non-null   float64       \n",
      " 10  WSgust           7632 non-null   float64       \n",
      " 11  WSstdev          7632 non-null   float64       \n",
      " 12  WD               7679 non-null   float64       \n",
      " 13  WDstdev          7679 non-null   float64       \n",
      " 14  BP               7742 non-null   float64       \n",
      " 15  Cleaning         7742 non-null   float64       \n",
      " 16  Precipitation    7742 non-null   float64       \n",
      " 17  TModA            7742 non-null   float64       \n",
      " 18  TModB            7742 non-null   float64       \n",
      " 19  Comments         0 non-null      float64       \n",
      "dtypes: datetime64[ns](1), float64(18), int64(1)\n",
      "memory usage: 1.2 MB\n"
     ]
    }
   ],
   "source": [
    "hourly_df.info()"
   ]
  },
  {
   "cell_type": "code",
   "execution_count": 83,
   "id": "fa22c3f6",
   "metadata": {},
   "outputs": [],
   "source": [
    "# List of columns to drop\n",
    "columns_to_drop = ['ModA', 'ModB', 'TModA', 'TModB', 'WSgust', 'WSstdev', 'WDstdev', 'Comments', 'Cleaning']\n",
    "\n",
    "# Drop the columns\n",
    "hourly_df = hourly_df.drop(columns=columns_to_drop)"
   ]
  },
  {
   "cell_type": "code",
   "execution_count": 90,
   "id": "7821a448",
   "metadata": {},
   "outputs": [],
   "source": [
    "hourly_df = hourly_df.dropna()"
   ]
  },
  {
   "cell_type": "code",
   "execution_count": 91,
   "id": "41eba9ae",
   "metadata": {},
   "outputs": [
    {
     "name": "stdout",
     "output_type": "stream",
     "text": [
      "<class 'pandas.core.frame.DataFrame'>\n",
      "Int64Index: 7632 entries, 0 to 7741\n",
      "Data columns (total 11 columns):\n",
      " #   Column           Non-Null Count  Dtype         \n",
      "---  ------           --------------  -----         \n",
      " 0   Date             7632 non-null   datetime64[ns]\n",
      " 1   Hour of the day  7632 non-null   int64         \n",
      " 2   GHI              7632 non-null   float64       \n",
      " 3   DNI              7632 non-null   float64       \n",
      " 4   DHI              7632 non-null   float64       \n",
      " 5   Tamb             7632 non-null   float64       \n",
      " 6   RH               7632 non-null   float64       \n",
      " 7   WS               7632 non-null   float64       \n",
      " 8   WD               7632 non-null   float64       \n",
      " 9   BP               7632 non-null   float64       \n",
      " 10  Precipitation    7632 non-null   float64       \n",
      "dtypes: datetime64[ns](1), float64(9), int64(1)\n",
      "memory usage: 715.5 KB\n"
     ]
    }
   ],
   "source": [
    "hourly_df.info()"
   ]
  },
  {
   "cell_type": "code",
   "execution_count": null,
   "id": "3b703bef",
   "metadata": {},
   "outputs": [],
   "source": []
  },
  {
   "cell_type": "markdown",
   "id": "ef8cf652",
   "metadata": {},
   "source": [
    "Hourly Global Horizontal Irradiance\n",
    "\n"
   ]
  },
  {
   "cell_type": "code",
   "execution_count": 92,
   "id": "da86bbd2",
   "metadata": {},
   "outputs": [],
   "source": [
    "drop1 = ['GHI', 'DNI', 'DHI', 'Date']\n",
    "\n",
    "X_rf = hourly_df.drop(columns = drop1)\n",
    "\n",
    "y_rf = hourly_df['GHI']\n",
    "\n",
    "X_train, X_test, y_train, y_test = train_test_split(X_rf, y_rf, test_size=0.2, random_state=10)"
   ]
  },
  {
   "cell_type": "code",
   "execution_count": 93,
   "id": "aa320cfa",
   "metadata": {},
   "outputs": [],
   "source": [
    "#rf = RandomForestRegressor(n_estimators=30)\n",
    "#rf.fit(X_train, y_train)\n",
    "\n",
    "\n",
    "rf = RandomForestRegressor(n_estimators=50)\n",
    "fit = rf.fit(X_train,y_train)\n",
    "predicted = rf.predict(X_test)\n",
    "\n",
    "\n",
    "predicted = rf.predict(X_test)\n",
    "\n",
    "expected = y_test\n",
    "\n",
    "df_pred = pd.DataFrame({'Predicted':predicted, 'Actual':expected})\n",
    "df_pred\n",
    "\n",
    "df_pred['Accuracy'] = df_pred['Actual'] - df_pred['Predicted']"
   ]
  },
  {
   "cell_type": "code",
   "execution_count": 94,
   "id": "ad50d291",
   "metadata": {},
   "outputs": [
    {
     "data": {
      "text/plain": [
       "6696   -202.869367\n",
       "3508     27.675863\n",
       "735     -49.676591\n",
       "6607     15.799654\n",
       "3977     37.580300\n",
       "           ...    \n",
       "148      53.310158\n",
       "2601   -253.993800\n",
       "5602    -69.369410\n",
       "404      -2.976664\n",
       "2022    -25.385600\n",
       "Name: Accuracy, Length: 1527, dtype: float64"
      ]
     },
     "execution_count": 94,
     "metadata": {},
     "output_type": "execute_result"
    }
   ],
   "source": [
    "df_pred['Accuracy']"
   ]
  },
  {
   "cell_type": "code",
   "execution_count": 95,
   "id": "6c929de2",
   "metadata": {},
   "outputs": [
    {
     "name": "stdout",
     "output_type": "stream",
     "text": [
      "MAPE: 0.1736531776845686\n"
     ]
    }
   ],
   "source": [
    "print(\"MAPE: %r\" % mape(expected, predicted))"
   ]
  },
  {
   "cell_type": "markdown",
   "id": "3a654060",
   "metadata": {},
   "source": [
    "Hourly Direct Normal Irradiance"
   ]
  },
  {
   "cell_type": "code",
   "execution_count": 96,
   "id": "79f17268",
   "metadata": {},
   "outputs": [],
   "source": [
    "drop1 = ['GHI', 'DNI', 'DHI', 'Date']\n",
    "\n",
    "X_rf_DNI = hourly_df.drop(columns = drop1)\n",
    "\n",
    "y_rf_DNI = hourly_df['DNI']\n",
    "\n",
    "X_train, X_test, y_train, y_test = train_test_split(X_rf_DNI, y_rf_DNI, test_size=0.3, random_state=42)"
   ]
  },
  {
   "cell_type": "code",
   "execution_count": 97,
   "id": "a67d11b1",
   "metadata": {},
   "outputs": [],
   "source": [
    "rf = RandomForestRegressor(n_estimators= 7)\n",
    "fit = rf.fit(X_train,y_train)\n",
    "\n",
    "predicted_DNI = rf.predict(X_test)\n",
    "\n",
    "expected_DNI = y_test\n",
    "\n",
    "df_pred = pd.DataFrame({'Predicted':predicted_DNI, 'Actual':expected_DNI})\n",
    "df_pred\n",
    "\n",
    "df_pred['Accuracy'] = df_pred['Actual'] - df_pred['Predicted']"
   ]
  },
  {
   "cell_type": "code",
   "execution_count": 98,
   "id": "0cd6851d",
   "metadata": {},
   "outputs": [
    {
     "name": "stdout",
     "output_type": "stream",
     "text": [
      "MAPE: 447648313043758.0\n"
     ]
    }
   ],
   "source": [
    "print(\"MAPE: %r\" % mape(expected_DNI, predicted_DNI))"
   ]
  },
  {
   "cell_type": "markdown",
   "id": "673793ec",
   "metadata": {},
   "source": [
    "Direct Horizontal Irradiance"
   ]
  },
  {
   "cell_type": "code",
   "execution_count": 87,
   "id": "416174f0",
   "metadata": {},
   "outputs": [],
   "source": [
    "X_rf_DHI = hourly_df.drop(columns = drop1)\n",
    "\n",
    "y_rf_DHI = hourly_df['DHI']\n",
    "\n",
    "X_train, X_test, y_train, y_test = train_test_split(X_rf_DHI, y_rf_DHI, test_size=0.3, random_state=42)\n",
    "\n"
   ]
  },
  {
   "cell_type": "code",
   "execution_count": 88,
   "id": "204ed104",
   "metadata": {},
   "outputs": [],
   "source": [
    "rf = RandomForestRegressor(n_estimators= 50)\n",
    "fit = rf.fit(X_train,y_train)\n",
    "\n",
    "predicted_DHI = rf.predict(X_test)\n",
    "\n",
    "expected_DHI = y_test\n",
    "\n",
    "df_pred = pd.DataFrame({'Predicted':predicted_DHI, 'Actual':expected_DHI})\n",
    "df_pred\n",
    "\n",
    "df_pred['Accuracy'] = df_pred['Actual'] - df_pred['Predicted']\n"
   ]
  },
  {
   "cell_type": "code",
   "execution_count": 89,
   "id": "6e33e621",
   "metadata": {},
   "outputs": [
    {
     "name": "stdout",
     "output_type": "stream",
     "text": [
      "MAPE: 0.27155676989836247\n"
     ]
    }
   ],
   "source": [
    "print(\"MAPE: %r\" % mape(expected_DHI, predicted_DHI))"
   ]
  },
  {
   "cell_type": "markdown",
   "id": "080e9db0",
   "metadata": {},
   "source": [
    "### Extreme Gradient Boost"
   ]
  },
  {
   "cell_type": "markdown",
   "id": "21d99b45",
   "metadata": {},
   "source": [
    "Global Horizontal Irradiance"
   ]
  },
  {
   "cell_type": "code",
   "execution_count": 99,
   "id": "f1484bc4",
   "metadata": {},
   "outputs": [],
   "source": [
    "drop1 = ['GHI', 'DNI', 'DHI', 'Date']\n",
    "\n",
    "X_xgb = hourly_df.drop(columns = drop1)\n",
    "\n",
    "y_xgb = hourly_df['GHI']\n",
    "\n",
    "X_train, X_test, y_train, y_test = train_test_split(X_xgb, y_xgb, test_size=0.3, random_state=42)"
   ]
  },
  {
   "cell_type": "code",
   "execution_count": 100,
   "id": "250cd2bc",
   "metadata": {},
   "outputs": [],
   "source": [
    "# create an xgboost regression model\n",
    "model = XGBRegressor(n_estimators=1000, max_depth=7, eta=0.1, subsample=0.7, colsample_bytree=0.8)"
   ]
  },
  {
   "cell_type": "code",
   "execution_count": 101,
   "id": "f206684b",
   "metadata": {},
   "outputs": [],
   "source": [
    "#rf = RandomForestRegressor(n_estimators= 50)\n",
    "fit = model.fit(X_train,y_train)\n",
    "\n",
    "predicted_GHI = model.predict(X_test)\n",
    "\n",
    "expected_GHI = y_test\n",
    "\n",
    "df_pred = pd.DataFrame({'Predicted':predicted_GHI, 'Actual':expected_GHI})\n",
    "df_pred\n",
    "\n",
    "df_pred['Accuracy'] = df_pred['Actual'] - df_pred['Predicted']"
   ]
  },
  {
   "cell_type": "code",
   "execution_count": 102,
   "id": "4bbc5c08",
   "metadata": {},
   "outputs": [
    {
     "name": "stdout",
     "output_type": "stream",
     "text": [
      "MAPE: 0.16982478407345541\n"
     ]
    }
   ],
   "source": [
    "print(\"MAPE: %r\" % mape(expected_GHI, predicted_GHI))"
   ]
  },
  {
   "cell_type": "markdown",
   "id": "6d4a109e",
   "metadata": {},
   "source": [
    "Direct Normal Irradiance"
   ]
  },
  {
   "cell_type": "code",
   "execution_count": 98,
   "id": "c9051da5",
   "metadata": {},
   "outputs": [],
   "source": [
    "drop1 = ['GHI', 'DNI', 'DHI', 'Date']\n",
    "\n",
    "X_xgb_DNI = hourly_df.drop(columns = drop1)\n",
    "\n",
    "y_xgb_DNI = hourly_df['DNI']\n",
    "\n",
    "X_train, X_test, y_train, y_test = train_test_split(X_xgb_DNI, y_xgb_DNI, test_size=0.3, random_state=42)\n",
    "\n"
   ]
  },
  {
   "cell_type": "code",
   "execution_count": 99,
   "id": "7690852b",
   "metadata": {},
   "outputs": [],
   "source": [
    "# create an xgboost regression model\n",
    "xgb_model = XGBRegressor(n_estimators=1000, max_depth=7, eta=0.1, subsample=0.7, colsample_bytree=0.8)\n",
    "\n"
   ]
  },
  {
   "cell_type": "code",
   "execution_count": 101,
   "id": "967633fb",
   "metadata": {},
   "outputs": [],
   "source": [
    "fit = xgb_model.fit(X_train,y_train)\n",
    "\n",
    "predicted_DNI = xgb_model.predict(X_test)\n",
    "\n",
    "expected_DNI = y_test\n",
    "\n",
    "df_pred = pd.DataFrame({'Predicted':predicted_DNI, 'Actual':expected_DNI})\n",
    "df_pred\n",
    "\n",
    "df_pred['Accuracy'] = df_pred['Actual'] - df_pred['Predicted']\n"
   ]
  },
  {
   "cell_type": "code",
   "execution_count": 102,
   "id": "aacd86f3",
   "metadata": {},
   "outputs": [
    {
     "name": "stdout",
     "output_type": "stream",
     "text": [
      "MAPE: 1.3220468163568773\n"
     ]
    }
   ],
   "source": [
    "print(\"MAPE: %r\" % mape(expected_DNI, predicted_DNI))"
   ]
  },
  {
   "cell_type": "markdown",
   "id": "58ae9018",
   "metadata": {},
   "source": [
    "Diffuse Horizontal Irradiance"
   ]
  },
  {
   "cell_type": "code",
   "execution_count": 103,
   "id": "e818181f",
   "metadata": {},
   "outputs": [],
   "source": [
    "X_xgb_DHI = hourly_df.drop(columns = drop1)\n",
    "\n",
    "y_xgb_DHI = hourly_df['DHI']\n",
    "\n",
    "X_train, X_test, y_train, y_test = train_test_split(X_xgb_DHI, y_xgb_DHI, test_size=0.3, random_state=42)\n",
    "\n"
   ]
  },
  {
   "cell_type": "code",
   "execution_count": 104,
   "id": "aef3d551",
   "metadata": {},
   "outputs": [],
   "source": [
    "fit = xgb_model.fit(X_train,y_train)\n",
    "\n",
    "predicted_DHI = xgb_model.predict(X_test)\n",
    "\n",
    "expected_DHI = y_test\n",
    "\n",
    "df_pred = pd.DataFrame({'Predicted':predicted_DHI, 'Actual':expected_DHI})\n",
    "df_pred\n",
    "\n",
    "df_pred['Accuracy'] = df_pred['Actual'] - df_pred['Predicted']\n",
    "\n"
   ]
  },
  {
   "cell_type": "code",
   "execution_count": 105,
   "id": "e5cf1afc",
   "metadata": {},
   "outputs": [
    {
     "name": "stdout",
     "output_type": "stream",
     "text": [
      "MAPE: 0.28912127334683674\n"
     ]
    }
   ],
   "source": [
    "print(\"MAPE: %r\" % mape(expected_DHI, predicted_DHI))"
   ]
  },
  {
   "cell_type": "markdown",
   "id": "58259796",
   "metadata": {},
   "source": [
    "### Multi-Layer Perceptron"
   ]
  },
  {
   "cell_type": "markdown",
   "id": "99fe7962",
   "metadata": {},
   "source": [
    "Global Horizontal Irradiance"
   ]
  },
  {
   "cell_type": "code",
   "execution_count": 103,
   "id": "07c69a1c",
   "metadata": {},
   "outputs": [],
   "source": [
    "drop1 = ['GHI', 'DNI', 'DHI', 'Date']\n",
    "\n",
    "X_mlp = hourly_df.drop(columns = drop1)\n",
    "\n",
    "y_mlp = hourly_df['GHI']\n",
    "\n",
    "X_train, X_test, y_train, y_test = train_test_split(X_mlp, y_mlp, test_size=0.3, random_state=42)\n",
    "\n"
   ]
  },
  {
   "cell_type": "code",
   "execution_count": 104,
   "id": "32752fe6",
   "metadata": {},
   "outputs": [
    {
     "data": {
      "text/html": [
       "<style>#sk-container-id-4 {color: black;background-color: white;}#sk-container-id-4 pre{padding: 0;}#sk-container-id-4 div.sk-toggleable {background-color: white;}#sk-container-id-4 label.sk-toggleable__label {cursor: pointer;display: block;width: 100%;margin-bottom: 0;padding: 0.3em;box-sizing: border-box;text-align: center;}#sk-container-id-4 label.sk-toggleable__label-arrow:before {content: \"▸\";float: left;margin-right: 0.25em;color: #696969;}#sk-container-id-4 label.sk-toggleable__label-arrow:hover:before {color: black;}#sk-container-id-4 div.sk-estimator:hover label.sk-toggleable__label-arrow:before {color: black;}#sk-container-id-4 div.sk-toggleable__content {max-height: 0;max-width: 0;overflow: hidden;text-align: left;background-color: #f0f8ff;}#sk-container-id-4 div.sk-toggleable__content pre {margin: 0.2em;color: black;border-radius: 0.25em;background-color: #f0f8ff;}#sk-container-id-4 input.sk-toggleable__control:checked~div.sk-toggleable__content {max-height: 200px;max-width: 100%;overflow: auto;}#sk-container-id-4 input.sk-toggleable__control:checked~label.sk-toggleable__label-arrow:before {content: \"▾\";}#sk-container-id-4 div.sk-estimator input.sk-toggleable__control:checked~label.sk-toggleable__label {background-color: #d4ebff;}#sk-container-id-4 div.sk-label input.sk-toggleable__control:checked~label.sk-toggleable__label {background-color: #d4ebff;}#sk-container-id-4 input.sk-hidden--visually {border: 0;clip: rect(1px 1px 1px 1px);clip: rect(1px, 1px, 1px, 1px);height: 1px;margin: -1px;overflow: hidden;padding: 0;position: absolute;width: 1px;}#sk-container-id-4 div.sk-estimator {font-family: monospace;background-color: #f0f8ff;border: 1px dotted black;border-radius: 0.25em;box-sizing: border-box;margin-bottom: 0.5em;}#sk-container-id-4 div.sk-estimator:hover {background-color: #d4ebff;}#sk-container-id-4 div.sk-parallel-item::after {content: \"\";width: 100%;border-bottom: 1px solid gray;flex-grow: 1;}#sk-container-id-4 div.sk-label:hover label.sk-toggleable__label {background-color: #d4ebff;}#sk-container-id-4 div.sk-serial::before {content: \"\";position: absolute;border-left: 1px solid gray;box-sizing: border-box;top: 0;bottom: 0;left: 50%;z-index: 0;}#sk-container-id-4 div.sk-serial {display: flex;flex-direction: column;align-items: center;background-color: white;padding-right: 0.2em;padding-left: 0.2em;position: relative;}#sk-container-id-4 div.sk-item {position: relative;z-index: 1;}#sk-container-id-4 div.sk-parallel {display: flex;align-items: stretch;justify-content: center;background-color: white;position: relative;}#sk-container-id-4 div.sk-item::before, #sk-container-id-4 div.sk-parallel-item::before {content: \"\";position: absolute;border-left: 1px solid gray;box-sizing: border-box;top: 0;bottom: 0;left: 50%;z-index: -1;}#sk-container-id-4 div.sk-parallel-item {display: flex;flex-direction: column;z-index: 1;position: relative;background-color: white;}#sk-container-id-4 div.sk-parallel-item:first-child::after {align-self: flex-end;width: 50%;}#sk-container-id-4 div.sk-parallel-item:last-child::after {align-self: flex-start;width: 50%;}#sk-container-id-4 div.sk-parallel-item:only-child::after {width: 0;}#sk-container-id-4 div.sk-dashed-wrapped {border: 1px dashed gray;margin: 0 0.4em 0.5em 0.4em;box-sizing: border-box;padding-bottom: 0.4em;background-color: white;}#sk-container-id-4 div.sk-label label {font-family: monospace;font-weight: bold;display: inline-block;line-height: 1.2em;}#sk-container-id-4 div.sk-label-container {text-align: center;}#sk-container-id-4 div.sk-container {/* jupyter's `normalize.less` sets `[hidden] { display: none; }` but bootstrap.min.css set `[hidden] { display: none !important; }` so we also need the `!important` here to be able to override the default hidden behavior on the sphinx rendered scikit-learn.org. See: https://github.com/scikit-learn/scikit-learn/issues/21755 */display: inline-block !important;position: relative;}#sk-container-id-4 div.sk-text-repr-fallback {display: none;}</style><div id=\"sk-container-id-4\" class=\"sk-top-container\"><div class=\"sk-text-repr-fallback\"><pre>MLPRegressor(max_iter=2000, random_state=1, tol=0.1)</pre><b>In a Jupyter environment, please rerun this cell to show the HTML representation or trust the notebook. <br />On GitHub, the HTML representation is unable to render, please try loading this page with nbviewer.org.</b></div><div class=\"sk-container\" hidden><div class=\"sk-item\"><div class=\"sk-estimator sk-toggleable\"><input class=\"sk-toggleable__control sk-hidden--visually\" id=\"sk-estimator-id-4\" type=\"checkbox\" checked><label for=\"sk-estimator-id-4\" class=\"sk-toggleable__label sk-toggleable__label-arrow\">MLPRegressor</label><div class=\"sk-toggleable__content\"><pre>MLPRegressor(max_iter=2000, random_state=1, tol=0.1)</pre></div></div></div></div></div>"
      ],
      "text/plain": [
       "MLPRegressor(max_iter=2000, random_state=1, tol=0.1)"
      ]
     },
     "execution_count": 104,
     "metadata": {},
     "output_type": "execute_result"
    }
   ],
   "source": [
    "regr = MLPRegressor(random_state=1, max_iter=2000, tol=0.1)\n",
    "regr.fit(X_train, y_train)\n",
    "\n",
    "\n"
   ]
  },
  {
   "cell_type": "code",
   "execution_count": 105,
   "id": "b537928a",
   "metadata": {},
   "outputs": [],
   "source": [
    "\n",
    "predicted_GHI = regr.predict(X_test)\n",
    "\n",
    "expected_GHI = y_test\n",
    "\n",
    "df_pred = pd.DataFrame({'Predicted':predicted_GHI, 'Actual':expected_GHI})\n",
    "df_pred\n",
    "\n",
    "df_pred['Accuracy'] = df_pred['Actual'] - df_pred['Predicted']\n",
    "\n"
   ]
  },
  {
   "cell_type": "code",
   "execution_count": 106,
   "id": "5bb764d2",
   "metadata": {},
   "outputs": [
    {
     "name": "stdout",
     "output_type": "stream",
     "text": [
      "MAPE: 0.5126985887165085\n"
     ]
    }
   ],
   "source": [
    "print(\"MAPE: %r\" % mape(expected_GHI, predicted_GHI))"
   ]
  },
  {
   "cell_type": "markdown",
   "id": "34c0359c",
   "metadata": {},
   "source": [
    "Direct Normal Irradiance"
   ]
  },
  {
   "cell_type": "code",
   "execution_count": 110,
   "id": "31251d86",
   "metadata": {},
   "outputs": [],
   "source": [
    "drop1 = ['GHI', 'DNI', 'DHI', 'Date']\n",
    "\n",
    "X_mlp = hourly_df.drop(columns = drop1)\n",
    "\n",
    "y_mlp = hourly_df['DNI']\n",
    "\n",
    "X_train, X_test, y_train, y_test = train_test_split(X_mlp, y_mlp, test_size=0.3, random_state=42)\n",
    "\n"
   ]
  },
  {
   "cell_type": "code",
   "execution_count": 111,
   "id": "0a6c6b81",
   "metadata": {},
   "outputs": [
    {
     "data": {
      "text/html": [
       "<style>#sk-container-id-6 {color: black;background-color: white;}#sk-container-id-6 pre{padding: 0;}#sk-container-id-6 div.sk-toggleable {background-color: white;}#sk-container-id-6 label.sk-toggleable__label {cursor: pointer;display: block;width: 100%;margin-bottom: 0;padding: 0.3em;box-sizing: border-box;text-align: center;}#sk-container-id-6 label.sk-toggleable__label-arrow:before {content: \"▸\";float: left;margin-right: 0.25em;color: #696969;}#sk-container-id-6 label.sk-toggleable__label-arrow:hover:before {color: black;}#sk-container-id-6 div.sk-estimator:hover label.sk-toggleable__label-arrow:before {color: black;}#sk-container-id-6 div.sk-toggleable__content {max-height: 0;max-width: 0;overflow: hidden;text-align: left;background-color: #f0f8ff;}#sk-container-id-6 div.sk-toggleable__content pre {margin: 0.2em;color: black;border-radius: 0.25em;background-color: #f0f8ff;}#sk-container-id-6 input.sk-toggleable__control:checked~div.sk-toggleable__content {max-height: 200px;max-width: 100%;overflow: auto;}#sk-container-id-6 input.sk-toggleable__control:checked~label.sk-toggleable__label-arrow:before {content: \"▾\";}#sk-container-id-6 div.sk-estimator input.sk-toggleable__control:checked~label.sk-toggleable__label {background-color: #d4ebff;}#sk-container-id-6 div.sk-label input.sk-toggleable__control:checked~label.sk-toggleable__label {background-color: #d4ebff;}#sk-container-id-6 input.sk-hidden--visually {border: 0;clip: rect(1px 1px 1px 1px);clip: rect(1px, 1px, 1px, 1px);height: 1px;margin: -1px;overflow: hidden;padding: 0;position: absolute;width: 1px;}#sk-container-id-6 div.sk-estimator {font-family: monospace;background-color: #f0f8ff;border: 1px dotted black;border-radius: 0.25em;box-sizing: border-box;margin-bottom: 0.5em;}#sk-container-id-6 div.sk-estimator:hover {background-color: #d4ebff;}#sk-container-id-6 div.sk-parallel-item::after {content: \"\";width: 100%;border-bottom: 1px solid gray;flex-grow: 1;}#sk-container-id-6 div.sk-label:hover label.sk-toggleable__label {background-color: #d4ebff;}#sk-container-id-6 div.sk-serial::before {content: \"\";position: absolute;border-left: 1px solid gray;box-sizing: border-box;top: 0;bottom: 0;left: 50%;z-index: 0;}#sk-container-id-6 div.sk-serial {display: flex;flex-direction: column;align-items: center;background-color: white;padding-right: 0.2em;padding-left: 0.2em;position: relative;}#sk-container-id-6 div.sk-item {position: relative;z-index: 1;}#sk-container-id-6 div.sk-parallel {display: flex;align-items: stretch;justify-content: center;background-color: white;position: relative;}#sk-container-id-6 div.sk-item::before, #sk-container-id-6 div.sk-parallel-item::before {content: \"\";position: absolute;border-left: 1px solid gray;box-sizing: border-box;top: 0;bottom: 0;left: 50%;z-index: -1;}#sk-container-id-6 div.sk-parallel-item {display: flex;flex-direction: column;z-index: 1;position: relative;background-color: white;}#sk-container-id-6 div.sk-parallel-item:first-child::after {align-self: flex-end;width: 50%;}#sk-container-id-6 div.sk-parallel-item:last-child::after {align-self: flex-start;width: 50%;}#sk-container-id-6 div.sk-parallel-item:only-child::after {width: 0;}#sk-container-id-6 div.sk-dashed-wrapped {border: 1px dashed gray;margin: 0 0.4em 0.5em 0.4em;box-sizing: border-box;padding-bottom: 0.4em;background-color: white;}#sk-container-id-6 div.sk-label label {font-family: monospace;font-weight: bold;display: inline-block;line-height: 1.2em;}#sk-container-id-6 div.sk-label-container {text-align: center;}#sk-container-id-6 div.sk-container {/* jupyter's `normalize.less` sets `[hidden] { display: none; }` but bootstrap.min.css set `[hidden] { display: none !important; }` so we also need the `!important` here to be able to override the default hidden behavior on the sphinx rendered scikit-learn.org. See: https://github.com/scikit-learn/scikit-learn/issues/21755 */display: inline-block !important;position: relative;}#sk-container-id-6 div.sk-text-repr-fallback {display: none;}</style><div id=\"sk-container-id-6\" class=\"sk-top-container\"><div class=\"sk-text-repr-fallback\"><pre>MLPRegressor(max_iter=2000, random_state=1, tol=0.1)</pre><b>In a Jupyter environment, please rerun this cell to show the HTML representation or trust the notebook. <br />On GitHub, the HTML representation is unable to render, please try loading this page with nbviewer.org.</b></div><div class=\"sk-container\" hidden><div class=\"sk-item\"><div class=\"sk-estimator sk-toggleable\"><input class=\"sk-toggleable__control sk-hidden--visually\" id=\"sk-estimator-id-6\" type=\"checkbox\" checked><label for=\"sk-estimator-id-6\" class=\"sk-toggleable__label sk-toggleable__label-arrow\">MLPRegressor</label><div class=\"sk-toggleable__content\"><pre>MLPRegressor(max_iter=2000, random_state=1, tol=0.1)</pre></div></div></div></div></div>"
      ],
      "text/plain": [
       "MLPRegressor(max_iter=2000, random_state=1, tol=0.1)"
      ]
     },
     "execution_count": 111,
     "metadata": {},
     "output_type": "execute_result"
    }
   ],
   "source": [
    "regr = MLPRegressor(random_state=1, max_iter=2000, tol=0.1)\n",
    "regr.fit(X_train, y_train)\n",
    "\n"
   ]
  },
  {
   "cell_type": "code",
   "execution_count": 112,
   "id": "54ee85ff",
   "metadata": {},
   "outputs": [],
   "source": [
    "predicted_DNI = regr.predict(X_test)\n",
    "\n",
    "expected_DNI = y_test\n",
    "\n",
    "df_pred = pd.DataFrame({'Predicted':predicted_DNI, 'Actual':expected_DNI})\n",
    "df_pred\n",
    "\n",
    "df_pred['Accuracy'] = df_pred['Actual'] - df_pred['Predicted']\n",
    "\n"
   ]
  },
  {
   "cell_type": "code",
   "execution_count": 113,
   "id": "a7ba6cef",
   "metadata": {},
   "outputs": [
    {
     "name": "stdout",
     "output_type": "stream",
     "text": [
      "MAPE: 2.0355100336060454\n"
     ]
    }
   ],
   "source": [
    "print(\"MAPE: %r\" % mape(expected_DNI, predicted_DNI))"
   ]
  },
  {
   "cell_type": "markdown",
   "id": "0420f913",
   "metadata": {},
   "source": [
    "Diffuse Horizontal Irradiance"
   ]
  },
  {
   "cell_type": "code",
   "execution_count": 114,
   "id": "8e19664b",
   "metadata": {},
   "outputs": [],
   "source": [
    "drop1 = ['GHI', 'DNI', 'DHI', 'Date']\n",
    "\n",
    "X_mlp = hourly_df.drop(columns = drop1)\n",
    "\n",
    "y_mlp = hourly_df['DHI']\n",
    "\n",
    "X_train, X_test, y_train, y_test = train_test_split(X_mlp, y_mlp, test_size=0.3, random_state=42)\n",
    "\n"
   ]
  },
  {
   "cell_type": "code",
   "execution_count": 116,
   "id": "6132372b",
   "metadata": {},
   "outputs": [
    {
     "data": {
      "text/html": [
       "<style>#sk-container-id-7 {color: black;background-color: white;}#sk-container-id-7 pre{padding: 0;}#sk-container-id-7 div.sk-toggleable {background-color: white;}#sk-container-id-7 label.sk-toggleable__label {cursor: pointer;display: block;width: 100%;margin-bottom: 0;padding: 0.3em;box-sizing: border-box;text-align: center;}#sk-container-id-7 label.sk-toggleable__label-arrow:before {content: \"▸\";float: left;margin-right: 0.25em;color: #696969;}#sk-container-id-7 label.sk-toggleable__label-arrow:hover:before {color: black;}#sk-container-id-7 div.sk-estimator:hover label.sk-toggleable__label-arrow:before {color: black;}#sk-container-id-7 div.sk-toggleable__content {max-height: 0;max-width: 0;overflow: hidden;text-align: left;background-color: #f0f8ff;}#sk-container-id-7 div.sk-toggleable__content pre {margin: 0.2em;color: black;border-radius: 0.25em;background-color: #f0f8ff;}#sk-container-id-7 input.sk-toggleable__control:checked~div.sk-toggleable__content {max-height: 200px;max-width: 100%;overflow: auto;}#sk-container-id-7 input.sk-toggleable__control:checked~label.sk-toggleable__label-arrow:before {content: \"▾\";}#sk-container-id-7 div.sk-estimator input.sk-toggleable__control:checked~label.sk-toggleable__label {background-color: #d4ebff;}#sk-container-id-7 div.sk-label input.sk-toggleable__control:checked~label.sk-toggleable__label {background-color: #d4ebff;}#sk-container-id-7 input.sk-hidden--visually {border: 0;clip: rect(1px 1px 1px 1px);clip: rect(1px, 1px, 1px, 1px);height: 1px;margin: -1px;overflow: hidden;padding: 0;position: absolute;width: 1px;}#sk-container-id-7 div.sk-estimator {font-family: monospace;background-color: #f0f8ff;border: 1px dotted black;border-radius: 0.25em;box-sizing: border-box;margin-bottom: 0.5em;}#sk-container-id-7 div.sk-estimator:hover {background-color: #d4ebff;}#sk-container-id-7 div.sk-parallel-item::after {content: \"\";width: 100%;border-bottom: 1px solid gray;flex-grow: 1;}#sk-container-id-7 div.sk-label:hover label.sk-toggleable__label {background-color: #d4ebff;}#sk-container-id-7 div.sk-serial::before {content: \"\";position: absolute;border-left: 1px solid gray;box-sizing: border-box;top: 0;bottom: 0;left: 50%;z-index: 0;}#sk-container-id-7 div.sk-serial {display: flex;flex-direction: column;align-items: center;background-color: white;padding-right: 0.2em;padding-left: 0.2em;position: relative;}#sk-container-id-7 div.sk-item {position: relative;z-index: 1;}#sk-container-id-7 div.sk-parallel {display: flex;align-items: stretch;justify-content: center;background-color: white;position: relative;}#sk-container-id-7 div.sk-item::before, #sk-container-id-7 div.sk-parallel-item::before {content: \"\";position: absolute;border-left: 1px solid gray;box-sizing: border-box;top: 0;bottom: 0;left: 50%;z-index: -1;}#sk-container-id-7 div.sk-parallel-item {display: flex;flex-direction: column;z-index: 1;position: relative;background-color: white;}#sk-container-id-7 div.sk-parallel-item:first-child::after {align-self: flex-end;width: 50%;}#sk-container-id-7 div.sk-parallel-item:last-child::after {align-self: flex-start;width: 50%;}#sk-container-id-7 div.sk-parallel-item:only-child::after {width: 0;}#sk-container-id-7 div.sk-dashed-wrapped {border: 1px dashed gray;margin: 0 0.4em 0.5em 0.4em;box-sizing: border-box;padding-bottom: 0.4em;background-color: white;}#sk-container-id-7 div.sk-label label {font-family: monospace;font-weight: bold;display: inline-block;line-height: 1.2em;}#sk-container-id-7 div.sk-label-container {text-align: center;}#sk-container-id-7 div.sk-container {/* jupyter's `normalize.less` sets `[hidden] { display: none; }` but bootstrap.min.css set `[hidden] { display: none !important; }` so we also need the `!important` here to be able to override the default hidden behavior on the sphinx rendered scikit-learn.org. See: https://github.com/scikit-learn/scikit-learn/issues/21755 */display: inline-block !important;position: relative;}#sk-container-id-7 div.sk-text-repr-fallback {display: none;}</style><div id=\"sk-container-id-7\" class=\"sk-top-container\"><div class=\"sk-text-repr-fallback\"><pre>MLPRegressor(max_iter=2000, random_state=1, tol=0.1)</pre><b>In a Jupyter environment, please rerun this cell to show the HTML representation or trust the notebook. <br />On GitHub, the HTML representation is unable to render, please try loading this page with nbviewer.org.</b></div><div class=\"sk-container\" hidden><div class=\"sk-item\"><div class=\"sk-estimator sk-toggleable\"><input class=\"sk-toggleable__control sk-hidden--visually\" id=\"sk-estimator-id-7\" type=\"checkbox\" checked><label for=\"sk-estimator-id-7\" class=\"sk-toggleable__label sk-toggleable__label-arrow\">MLPRegressor</label><div class=\"sk-toggleable__content\"><pre>MLPRegressor(max_iter=2000, random_state=1, tol=0.1)</pre></div></div></div></div></div>"
      ],
      "text/plain": [
       "MLPRegressor(max_iter=2000, random_state=1, tol=0.1)"
      ]
     },
     "execution_count": 116,
     "metadata": {},
     "output_type": "execute_result"
    }
   ],
   "source": [
    "regr = MLPRegressor(random_state=1, max_iter=2000, tol=0.1)\n",
    "regr.fit(X_train, y_train)\n"
   ]
  },
  {
   "cell_type": "code",
   "execution_count": 117,
   "id": "94b3346b",
   "metadata": {},
   "outputs": [],
   "source": [
    "predicted_DHI = regr.predict(X_test)\n",
    "\n",
    "expected_DHI = y_test\n",
    "\n",
    "df_pred = pd.DataFrame({'Predicted':predicted_DHI, 'Actual':expected_DHI})\n",
    "df_pred\n",
    "\n",
    "df_pred['Accuracy'] = df_pred['Actual'] - df_pred['Predicted']\n",
    "\n"
   ]
  },
  {
   "cell_type": "code",
   "execution_count": 118,
   "id": "d880881c",
   "metadata": {},
   "outputs": [
    {
     "name": "stdout",
     "output_type": "stream",
     "text": [
      "MAPE: 0.29414755994897307\n"
     ]
    }
   ],
   "source": [
    "print(\"MAPE: %r\" % mape(expected_DHI, predicted_DHI))"
   ]
  },
  {
   "cell_type": "code",
   "execution_count": null,
   "id": "eeadc5c5",
   "metadata": {},
   "outputs": [],
   "source": []
  }
 ],
 "metadata": {
  "kernelspec": {
   "display_name": "Python 3 (ipykernel)",
   "language": "python",
   "name": "python3"
  },
  "language_info": {
   "codemirror_mode": {
    "name": "ipython",
    "version": 3
   },
   "file_extension": ".py",
   "mimetype": "text/x-python",
   "name": "python",
   "nbconvert_exporter": "python",
   "pygments_lexer": "ipython3",
   "version": "3.10.9"
  }
 },
 "nbformat": 4,
 "nbformat_minor": 5
}
